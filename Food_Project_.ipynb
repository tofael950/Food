{
  "nbformat": 4,
  "nbformat_minor": 0,
  "metadata": {
    "colab": {
      "name": "Food Project      .ipynb",
      "provenance": [],
      "toc_visible": true,
      "mount_file_id": "1Uw8FjjO8ry-JJtktyLmjpfoOB_rEuPoU",
      "authorship_tag": "ABX9TyMJBlFU82i3gVbdd/lEIc2G",
      "include_colab_link": true
    },
    "kernelspec": {
      "name": "python3",
      "display_name": "Python 3"
    },
    "language_info": {
      "name": "python"
    }
  },
  "cells": [
    {
      "cell_type": "markdown",
      "metadata": {
        "id": "view-in-github",
        "colab_type": "text"
      },
      "source": [
        "<a href=\"https://colab.research.google.com/github/tofael950/Food/blob/main/Food_Project_.ipynb\" target=\"_parent\"><img src=\"https://colab.research.google.com/assets/colab-badge.svg\" alt=\"Open In Colab\"/></a>"
      ]
    },
    {
      "cell_type": "markdown",
      "metadata": {
        "id": "WFcW0ykxKFk3"
      },
      "source": [
        "# Import libraries"
      ]
    },
    {
      "cell_type": "code",
      "metadata": {
        "id": "ujnPENtrF0EZ"
      },
      "source": [
        "import pandas as pd\n",
        "import seaborn as sns\n",
        "\n",
        "import numpy as np\n",
        "import matplotlib.pyplot as plt"
      ],
      "execution_count": 7,
      "outputs": []
    },
    {
      "cell_type": "code",
      "metadata": {
        "id": "rkonjFYeBGbL"
      },
      "source": [
        "from sklearn.tree import DecisionTreeClassifier\n",
        "\n",
        "from sklearn.metrics import accuracy_score\n",
        "import pandas as pd\n",
        "from pandas.plotting import scatter_matrix\n",
        "import matplotlib.pyplot as plt\n",
        "from sklearn import model_selection\n",
        "from sklearn.metrics import classification_report\n",
        "from sklearn.metrics import confusion_matrix\n",
        "from sklearn.metrics import accuracy_score\n",
        "from sklearn.linear_model import LogisticRegression\n",
        "from sklearn.tree import DecisionTreeClassifier\n",
        "from sklearn.neighbors import KNeighborsClassifier\n",
        "from sklearn.discriminant_analysis import LinearDiscriminantAnalysis\n",
        "from sklearn.naive_bayes import GaussianNB\n",
        "from sklearn.svm import SVC\n",
        "from sklearn.model_selection import train_test_split\n",
        "from sklearn.linear_model import LinearRegression\n",
        "from sklearn.linear_model import LogisticRegression\n",
        "import numpy as np\n",
        "import pandas as pd\n",
        "from sklearn.preprocessing import StandardScaler\n",
        "from sklearn.metrics import f1_score\n",
        "from sklearn.metrics import accuracy_score\n",
        "%matplotlib inline\n",
        "import seaborn as sns\n",
        "import pandas as pd\n",
        "from sklearn.naive_bayes import GaussianNB\n",
        "from sklearn.model_selection import train_test_split\n",
        "from sklearn.preprocessing import LabelEncoder\n",
        "\n",
        "from sklearn.preprocessing import MinMaxScaler\n",
        "from sklearn.preprocessing import StandardScaler\n",
        "from sklearn.neighbors import KNeighborsClassifier\n",
        "from sklearn.ensemble import AdaBoostClassifier\n",
        "from sklearn.ensemble import BaggingClassifier\n",
        "from sklearn.svm import SVC\n",
        "from sklearn.naive_bayes import GaussianNB\n",
        "from sklearn.ensemble import AdaBoostClassifier\n",
        "from sklearn.ensemble import GradientBoostingClassifier\n",
        "from sklearn.ensemble import ExtraTreesClassifier"
      ],
      "execution_count": 8,
      "outputs": []
    },
    {
      "cell_type": "code",
      "metadata": {
        "colab": {
          "base_uri": "https://localhost:8080/",
          "height": 478
        },
        "id": "_GwkIgmQGtb8",
        "outputId": "2b6ff61c-dce3-4e11-cf98-00966cd4f152"
      },
      "source": [
        "# CSV file Import \n",
        "ds=pd.read_csv('/content/drive/MyDrive/Final Year Project /1200   Data    .csv')\n",
        "ds"
      ],
      "execution_count": 9,
      "outputs": [
        {
          "output_type": "execute_result",
          "data": {
            "text/html": [
              "<div>\n",
              "<style scoped>\n",
              "    .dataframe tbody tr th:only-of-type {\n",
              "        vertical-align: middle;\n",
              "    }\n",
              "\n",
              "    .dataframe tbody tr th {\n",
              "        vertical-align: top;\n",
              "    }\n",
              "\n",
              "    .dataframe thead th {\n",
              "        text-align: right;\n",
              "    }\n",
              "</style>\n",
              "<table border=\"1\" class=\"dataframe\">\n",
              "  <thead>\n",
              "    <tr style=\"text-align: right;\">\n",
              "      <th></th>\n",
              "      <th>Gender</th>\n",
              "      <th>Age</th>\n",
              "      <th>BF-Paratha</th>\n",
              "      <th>BF-Bread</th>\n",
              "      <th>BF-Fry Eggs</th>\n",
              "      <th>BF-Pulses</th>\n",
              "      <th>BF-Vegetables</th>\n",
              "      <th>BF-Tea</th>\n",
              "      <th>BF-Coffee</th>\n",
              "      <th>BF-Green Tea</th>\n",
              "      <th>BF-Rice</th>\n",
              "      <th>BF-Bread_Jelly</th>\n",
              "      <th>BF-Boil_Egg</th>\n",
              "      <th>BF-Fruit</th>\n",
              "      <th>Lunch-Rice</th>\n",
              "      <th>Lunch-Biryani</th>\n",
              "      <th>Lunch-Fish Curry</th>\n",
              "      <th>Lunch-Chickens</th>\n",
              "      <th>Lunch-Beef_Mutton</th>\n",
              "      <th>Lunch-Vegetables</th>\n",
              "      <th>Lunch-Pulses</th>\n",
              "      <th>Dinner-Rice</th>\n",
              "      <th>Dinner-Bread</th>\n",
              "      <th>Dinner-Chickens</th>\n",
              "      <th>Dinner-Beef_Mutton</th>\n",
              "      <th>Dinner-Fish_Curry</th>\n",
              "      <th>Dinner-Vegetables</th>\n",
              "      <th>Dinner-Pulses</th>\n",
              "      <th>Snacks-Fast_Food</th>\n",
              "      <th>Snacks-Tea_Coffee</th>\n",
              "      <th>Afternoon_Breakfast</th>\n",
              "      <th>।_Prefer_any_food</th>\n",
              "      <th>Street_Food-Fuchka</th>\n",
              "      <th>Street_Food-Velpuri</th>\n",
              "      <th>Street_Food-Jhalmuri</th>\n",
              "      <th>Street_Food-Singara</th>\n",
              "      <th>Street_Food-Grill_Nan</th>\n",
              "      <th>Street_Food-Chanachur</th>\n",
              "      <th>Street_Food-Chhola</th>\n",
              "      <th>Desserts-Sweet_Yogurt</th>\n",
              "      <th>Desserts-Doi_Chira</th>\n",
              "      <th>Desserts-Falooda</th>\n",
              "      <th>Desserts-Rasmalai</th>\n",
              "      <th>Desserts-Cake</th>\n",
              "      <th>Desserts-Different_Types_of_Sweet</th>\n",
              "    </tr>\n",
              "  </thead>\n",
              "  <tbody>\n",
              "    <tr>\n",
              "      <th>0</th>\n",
              "      <td>Male</td>\n",
              "      <td>15--25</td>\n",
              "      <td>4</td>\n",
              "      <td>4</td>\n",
              "      <td>5</td>\n",
              "      <td>5</td>\n",
              "      <td>5</td>\n",
              "      <td>5</td>\n",
              "      <td>3</td>\n",
              "      <td>4</td>\n",
              "      <td>3</td>\n",
              "      <td>2</td>\n",
              "      <td>5</td>\n",
              "      <td>5</td>\n",
              "      <td>5</td>\n",
              "      <td>NaN</td>\n",
              "      <td>5</td>\n",
              "      <td>5</td>\n",
              "      <td>5</td>\n",
              "      <td>3</td>\n",
              "      <td>5</td>\n",
              "      <td>2</td>\n",
              "      <td>1</td>\n",
              "      <td>5</td>\n",
              "      <td>5</td>\n",
              "      <td>5</td>\n",
              "      <td>3</td>\n",
              "      <td>4</td>\n",
              "      <td>5</td>\n",
              "      <td>5</td>\n",
              "      <td>Yes</td>\n",
              "      <td>Sour</td>\n",
              "      <td>1</td>\n",
              "      <td>1</td>\n",
              "      <td>3</td>\n",
              "      <td>4</td>\n",
              "      <td>5</td>\n",
              "      <td>4</td>\n",
              "      <td>4</td>\n",
              "      <td>5</td>\n",
              "      <td>5</td>\n",
              "      <td>5</td>\n",
              "      <td>5</td>\n",
              "      <td>3</td>\n",
              "      <td>5</td>\n",
              "    </tr>\n",
              "    <tr>\n",
              "      <th>1</th>\n",
              "      <td>Female</td>\n",
              "      <td>15--25</td>\n",
              "      <td>1</td>\n",
              "      <td>5</td>\n",
              "      <td>3</td>\n",
              "      <td>3</td>\n",
              "      <td>4</td>\n",
              "      <td>3</td>\n",
              "      <td>4</td>\n",
              "      <td>5</td>\n",
              "      <td>1</td>\n",
              "      <td>1</td>\n",
              "      <td>5</td>\n",
              "      <td>5</td>\n",
              "      <td>5</td>\n",
              "      <td>4.0</td>\n",
              "      <td>5</td>\n",
              "      <td>5</td>\n",
              "      <td>3</td>\n",
              "      <td>4</td>\n",
              "      <td>2</td>\n",
              "      <td>3</td>\n",
              "      <td>5</td>\n",
              "      <td>5</td>\n",
              "      <td>3</td>\n",
              "      <td>5</td>\n",
              "      <td>5</td>\n",
              "      <td>3</td>\n",
              "      <td>5</td>\n",
              "      <td>5</td>\n",
              "      <td>Yes</td>\n",
              "      <td>Sour</td>\n",
              "      <td>5</td>\n",
              "      <td>5</td>\n",
              "      <td>5</td>\n",
              "      <td>5</td>\n",
              "      <td>5</td>\n",
              "      <td>5</td>\n",
              "      <td>5</td>\n",
              "      <td>4</td>\n",
              "      <td>3</td>\n",
              "      <td>2</td>\n",
              "      <td>4</td>\n",
              "      <td>4</td>\n",
              "      <td>2</td>\n",
              "    </tr>\n",
              "    <tr>\n",
              "      <th>2</th>\n",
              "      <td>Male</td>\n",
              "      <td>15--25</td>\n",
              "      <td>5</td>\n",
              "      <td>5</td>\n",
              "      <td>4</td>\n",
              "      <td>3</td>\n",
              "      <td>5</td>\n",
              "      <td>5</td>\n",
              "      <td>4</td>\n",
              "      <td>5</td>\n",
              "      <td>3</td>\n",
              "      <td>3</td>\n",
              "      <td>5</td>\n",
              "      <td>5</td>\n",
              "      <td>5</td>\n",
              "      <td>5.0</td>\n",
              "      <td>5</td>\n",
              "      <td>5</td>\n",
              "      <td>5</td>\n",
              "      <td>5</td>\n",
              "      <td>5</td>\n",
              "      <td>1</td>\n",
              "      <td>5</td>\n",
              "      <td>4</td>\n",
              "      <td>4</td>\n",
              "      <td>4</td>\n",
              "      <td>4</td>\n",
              "      <td>3</td>\n",
              "      <td>4</td>\n",
              "      <td>5</td>\n",
              "      <td>No</td>\n",
              "      <td>Sweet</td>\n",
              "      <td>3</td>\n",
              "      <td>3</td>\n",
              "      <td>3</td>\n",
              "      <td>3</td>\n",
              "      <td>3</td>\n",
              "      <td>3</td>\n",
              "      <td>5</td>\n",
              "      <td>4</td>\n",
              "      <td>4</td>\n",
              "      <td>4</td>\n",
              "      <td>5</td>\n",
              "      <td>5</td>\n",
              "      <td>5</td>\n",
              "    </tr>\n",
              "    <tr>\n",
              "      <th>3</th>\n",
              "      <td>Male</td>\n",
              "      <td>15--25</td>\n",
              "      <td>3</td>\n",
              "      <td>2</td>\n",
              "      <td>1</td>\n",
              "      <td>1</td>\n",
              "      <td>1</td>\n",
              "      <td>1</td>\n",
              "      <td>1</td>\n",
              "      <td>1</td>\n",
              "      <td>1</td>\n",
              "      <td>1</td>\n",
              "      <td>1</td>\n",
              "      <td>1</td>\n",
              "      <td>1</td>\n",
              "      <td>1.0</td>\n",
              "      <td>1</td>\n",
              "      <td>1</td>\n",
              "      <td>1</td>\n",
              "      <td>1</td>\n",
              "      <td>1</td>\n",
              "      <td>2</td>\n",
              "      <td>1</td>\n",
              "      <td>3</td>\n",
              "      <td>3</td>\n",
              "      <td>1</td>\n",
              "      <td>1</td>\n",
              "      <td>1</td>\n",
              "      <td>1</td>\n",
              "      <td>1</td>\n",
              "      <td>No</td>\n",
              "      <td>Sweet</td>\n",
              "      <td>1</td>\n",
              "      <td>1</td>\n",
              "      <td>1</td>\n",
              "      <td>1</td>\n",
              "      <td>2</td>\n",
              "      <td>1</td>\n",
              "      <td>1</td>\n",
              "      <td>1</td>\n",
              "      <td>1</td>\n",
              "      <td>2</td>\n",
              "      <td>1</td>\n",
              "      <td>1</td>\n",
              "      <td>1</td>\n",
              "    </tr>\n",
              "    <tr>\n",
              "      <th>4</th>\n",
              "      <td>Male</td>\n",
              "      <td>15--25</td>\n",
              "      <td>5</td>\n",
              "      <td>5</td>\n",
              "      <td>3</td>\n",
              "      <td>3</td>\n",
              "      <td>5</td>\n",
              "      <td>5</td>\n",
              "      <td>3</td>\n",
              "      <td>5</td>\n",
              "      <td>3</td>\n",
              "      <td>3</td>\n",
              "      <td>5</td>\n",
              "      <td>5</td>\n",
              "      <td>5</td>\n",
              "      <td>4.0</td>\n",
              "      <td>4</td>\n",
              "      <td>5</td>\n",
              "      <td>4</td>\n",
              "      <td>4</td>\n",
              "      <td>4</td>\n",
              "      <td>5</td>\n",
              "      <td>5</td>\n",
              "      <td>4</td>\n",
              "      <td>4</td>\n",
              "      <td>4</td>\n",
              "      <td>5</td>\n",
              "      <td>3</td>\n",
              "      <td>2</td>\n",
              "      <td>5</td>\n",
              "      <td>Yes</td>\n",
              "      <td>Soldier</td>\n",
              "      <td>4</td>\n",
              "      <td>2</td>\n",
              "      <td>4</td>\n",
              "      <td>4</td>\n",
              "      <td>4</td>\n",
              "      <td>3</td>\n",
              "      <td>5</td>\n",
              "      <td>4</td>\n",
              "      <td>2</td>\n",
              "      <td>3</td>\n",
              "      <td>5</td>\n",
              "      <td>5</td>\n",
              "      <td>5</td>\n",
              "    </tr>\n",
              "    <tr>\n",
              "      <th>...</th>\n",
              "      <td>...</td>\n",
              "      <td>...</td>\n",
              "      <td>...</td>\n",
              "      <td>...</td>\n",
              "      <td>...</td>\n",
              "      <td>...</td>\n",
              "      <td>...</td>\n",
              "      <td>...</td>\n",
              "      <td>...</td>\n",
              "      <td>...</td>\n",
              "      <td>...</td>\n",
              "      <td>...</td>\n",
              "      <td>...</td>\n",
              "      <td>...</td>\n",
              "      <td>...</td>\n",
              "      <td>...</td>\n",
              "      <td>...</td>\n",
              "      <td>...</td>\n",
              "      <td>...</td>\n",
              "      <td>...</td>\n",
              "      <td>...</td>\n",
              "      <td>...</td>\n",
              "      <td>...</td>\n",
              "      <td>...</td>\n",
              "      <td>...</td>\n",
              "      <td>...</td>\n",
              "      <td>...</td>\n",
              "      <td>...</td>\n",
              "      <td>...</td>\n",
              "      <td>...</td>\n",
              "      <td>...</td>\n",
              "      <td>...</td>\n",
              "      <td>...</td>\n",
              "      <td>...</td>\n",
              "      <td>...</td>\n",
              "      <td>...</td>\n",
              "      <td>...</td>\n",
              "      <td>...</td>\n",
              "      <td>...</td>\n",
              "      <td>...</td>\n",
              "      <td>...</td>\n",
              "      <td>...</td>\n",
              "      <td>...</td>\n",
              "      <td>...</td>\n",
              "      <td>...</td>\n",
              "    </tr>\n",
              "    <tr>\n",
              "      <th>1195</th>\n",
              "      <td>Male</td>\n",
              "      <td>15--25</td>\n",
              "      <td>3</td>\n",
              "      <td>4</td>\n",
              "      <td>3</td>\n",
              "      <td>4</td>\n",
              "      <td>3</td>\n",
              "      <td>4</td>\n",
              "      <td>3</td>\n",
              "      <td>4</td>\n",
              "      <td>5</td>\n",
              "      <td>5</td>\n",
              "      <td>4</td>\n",
              "      <td>3</td>\n",
              "      <td>3</td>\n",
              "      <td>4.0</td>\n",
              "      <td>4</td>\n",
              "      <td>3</td>\n",
              "      <td>4</td>\n",
              "      <td>4</td>\n",
              "      <td>4</td>\n",
              "      <td>4</td>\n",
              "      <td>3</td>\n",
              "      <td>4</td>\n",
              "      <td>3</td>\n",
              "      <td>5</td>\n",
              "      <td>5</td>\n",
              "      <td>5</td>\n",
              "      <td>3</td>\n",
              "      <td>4</td>\n",
              "      <td>No</td>\n",
              "      <td>Sour</td>\n",
              "      <td>3</td>\n",
              "      <td>4</td>\n",
              "      <td>4</td>\n",
              "      <td>4</td>\n",
              "      <td>4</td>\n",
              "      <td>4</td>\n",
              "      <td>4</td>\n",
              "      <td>3</td>\n",
              "      <td>3</td>\n",
              "      <td>2</td>\n",
              "      <td>3</td>\n",
              "      <td>2</td>\n",
              "      <td>3</td>\n",
              "    </tr>\n",
              "    <tr>\n",
              "      <th>1196</th>\n",
              "      <td>Male</td>\n",
              "      <td>40+</td>\n",
              "      <td>2</td>\n",
              "      <td>4</td>\n",
              "      <td>3</td>\n",
              "      <td>4</td>\n",
              "      <td>5</td>\n",
              "      <td>4</td>\n",
              "      <td>2</td>\n",
              "      <td>1</td>\n",
              "      <td>1</td>\n",
              "      <td>1</td>\n",
              "      <td>1</td>\n",
              "      <td>2</td>\n",
              "      <td>5</td>\n",
              "      <td>4.0</td>\n",
              "      <td>5</td>\n",
              "      <td>4</td>\n",
              "      <td>4</td>\n",
              "      <td>5</td>\n",
              "      <td>5</td>\n",
              "      <td>3</td>\n",
              "      <td>5</td>\n",
              "      <td>4</td>\n",
              "      <td>3</td>\n",
              "      <td>4</td>\n",
              "      <td>5</td>\n",
              "      <td>5</td>\n",
              "      <td>2</td>\n",
              "      <td>3</td>\n",
              "      <td>No</td>\n",
              "      <td>Soldier</td>\n",
              "      <td>4</td>\n",
              "      <td>2</td>\n",
              "      <td>5</td>\n",
              "      <td>2</td>\n",
              "      <td>2</td>\n",
              "      <td>2</td>\n",
              "      <td>4</td>\n",
              "      <td>2</td>\n",
              "      <td>2</td>\n",
              "      <td>2</td>\n",
              "      <td>2</td>\n",
              "      <td>2</td>\n",
              "      <td>2</td>\n",
              "    </tr>\n",
              "    <tr>\n",
              "      <th>1197</th>\n",
              "      <td>Male</td>\n",
              "      <td>40+</td>\n",
              "      <td>4</td>\n",
              "      <td>4</td>\n",
              "      <td>5</td>\n",
              "      <td>3</td>\n",
              "      <td>4</td>\n",
              "      <td>3</td>\n",
              "      <td>5</td>\n",
              "      <td>4</td>\n",
              "      <td>4</td>\n",
              "      <td>4</td>\n",
              "      <td>4</td>\n",
              "      <td>4</td>\n",
              "      <td>5</td>\n",
              "      <td>4.0</td>\n",
              "      <td>3</td>\n",
              "      <td>4</td>\n",
              "      <td>3</td>\n",
              "      <td>4</td>\n",
              "      <td>4</td>\n",
              "      <td>4</td>\n",
              "      <td>5</td>\n",
              "      <td>4</td>\n",
              "      <td>4</td>\n",
              "      <td>4</td>\n",
              "      <td>5</td>\n",
              "      <td>4</td>\n",
              "      <td>2</td>\n",
              "      <td>4</td>\n",
              "      <td>No</td>\n",
              "      <td>Soldier</td>\n",
              "      <td>3</td>\n",
              "      <td>2</td>\n",
              "      <td>4</td>\n",
              "      <td>3</td>\n",
              "      <td>4</td>\n",
              "      <td>3</td>\n",
              "      <td>3</td>\n",
              "      <td>3</td>\n",
              "      <td>3</td>\n",
              "      <td>3</td>\n",
              "      <td>3</td>\n",
              "      <td>3</td>\n",
              "      <td>3</td>\n",
              "    </tr>\n",
              "    <tr>\n",
              "      <th>1198</th>\n",
              "      <td>Male</td>\n",
              "      <td>25--40</td>\n",
              "      <td>3</td>\n",
              "      <td>4</td>\n",
              "      <td>3</td>\n",
              "      <td>4</td>\n",
              "      <td>3</td>\n",
              "      <td>4</td>\n",
              "      <td>3</td>\n",
              "      <td>4</td>\n",
              "      <td>5</td>\n",
              "      <td>5</td>\n",
              "      <td>5</td>\n",
              "      <td>5</td>\n",
              "      <td>4</td>\n",
              "      <td>4.0</td>\n",
              "      <td>4</td>\n",
              "      <td>4</td>\n",
              "      <td>4</td>\n",
              "      <td>4</td>\n",
              "      <td>4</td>\n",
              "      <td>4</td>\n",
              "      <td>3</td>\n",
              "      <td>4</td>\n",
              "      <td>5</td>\n",
              "      <td>4</td>\n",
              "      <td>4</td>\n",
              "      <td>4</td>\n",
              "      <td>3</td>\n",
              "      <td>3</td>\n",
              "      <td>Yes</td>\n",
              "      <td>Sour</td>\n",
              "      <td>3</td>\n",
              "      <td>5</td>\n",
              "      <td>5</td>\n",
              "      <td>4</td>\n",
              "      <td>4</td>\n",
              "      <td>4</td>\n",
              "      <td>4</td>\n",
              "      <td>4</td>\n",
              "      <td>4</td>\n",
              "      <td>4</td>\n",
              "      <td>4</td>\n",
              "      <td>4</td>\n",
              "      <td>4</td>\n",
              "    </tr>\n",
              "    <tr>\n",
              "      <th>1199</th>\n",
              "      <td>Male</td>\n",
              "      <td>15--25</td>\n",
              "      <td>1</td>\n",
              "      <td>1</td>\n",
              "      <td>4</td>\n",
              "      <td>4</td>\n",
              "      <td>2</td>\n",
              "      <td>1</td>\n",
              "      <td>1</td>\n",
              "      <td>3</td>\n",
              "      <td>1</td>\n",
              "      <td>1</td>\n",
              "      <td>3</td>\n",
              "      <td>1</td>\n",
              "      <td>1</td>\n",
              "      <td>3.0</td>\n",
              "      <td>1</td>\n",
              "      <td>1</td>\n",
              "      <td>1</td>\n",
              "      <td>2</td>\n",
              "      <td>1</td>\n",
              "      <td>1</td>\n",
              "      <td>2</td>\n",
              "      <td>1</td>\n",
              "      <td>1</td>\n",
              "      <td>1</td>\n",
              "      <td>1</td>\n",
              "      <td>1</td>\n",
              "      <td>1</td>\n",
              "      <td>2</td>\n",
              "      <td>Yes</td>\n",
              "      <td>Soldier</td>\n",
              "      <td>1</td>\n",
              "      <td>1</td>\n",
              "      <td>1</td>\n",
              "      <td>1</td>\n",
              "      <td>1</td>\n",
              "      <td>1</td>\n",
              "      <td>2</td>\n",
              "      <td>4</td>\n",
              "      <td>4</td>\n",
              "      <td>4</td>\n",
              "      <td>1</td>\n",
              "      <td>1</td>\n",
              "      <td>1</td>\n",
              "    </tr>\n",
              "  </tbody>\n",
              "</table>\n",
              "<p>1200 rows × 45 columns</p>\n",
              "</div>"
            ],
            "text/plain": [
              "      Gender     Age  ...  Desserts-Cake  Desserts-Different_Types_of_Sweet\n",
              "0       Male  15--25  ...              3                                  5\n",
              "1     Female  15--25  ...              4                                  2\n",
              "2       Male  15--25  ...              5                                  5\n",
              "3       Male  15--25  ...              1                                  1\n",
              "4       Male  15--25  ...              5                                  5\n",
              "...      ...     ...  ...            ...                                ...\n",
              "1195    Male  15--25  ...              2                                  3\n",
              "1196    Male     40+  ...              2                                  2\n",
              "1197    Male     40+  ...              3                                  3\n",
              "1198    Male  25--40  ...              4                                  4\n",
              "1199    Male  15--25  ...              1                                  1\n",
              "\n",
              "[1200 rows x 45 columns]"
            ]
          },
          "metadata": {},
          "execution_count": 9
        }
      ]
    },
    {
      "cell_type": "code",
      "metadata": {
        "colab": {
          "base_uri": "https://localhost:8080/"
        },
        "id": "n8Uwz_IJHDmp",
        "outputId": "392ac64c-87d3-4977-ff4f-becb71209684"
      },
      "source": [
        "ds.dtypes"
      ],
      "execution_count": 10,
      "outputs": [
        {
          "output_type": "execute_result",
          "data": {
            "text/plain": [
              "Gender                                object\n",
              "Age                                   object\n",
              "BF-Paratha                             int64\n",
              "BF-Bread                               int64\n",
              "BF-Fry Eggs                            int64\n",
              "BF-Pulses                              int64\n",
              "BF-Vegetables                          int64\n",
              "BF-Tea                                 int64\n",
              "BF-Coffee                              int64\n",
              "BF-Green Tea                           int64\n",
              "BF-Rice                                int64\n",
              "BF-Bread_Jelly                         int64\n",
              "BF-Boil_Egg                            int64\n",
              "BF-Fruit                               int64\n",
              "Lunch-Rice                             int64\n",
              "Lunch-Biryani                        float64\n",
              "Lunch-Fish Curry                       int64\n",
              "Lunch-Chickens                         int64\n",
              "Lunch-Beef_Mutton                      int64\n",
              "Lunch-Vegetables                       int64\n",
              "Lunch-Pulses                           int64\n",
              "Dinner-Rice                            int64\n",
              "Dinner-Bread                           int64\n",
              "Dinner-Chickens                        int64\n",
              "Dinner-Beef_Mutton                     int64\n",
              "Dinner-Fish_Curry                      int64\n",
              "Dinner-Vegetables                      int64\n",
              "Dinner-Pulses                          int64\n",
              "Snacks-Fast_Food                       int64\n",
              "Snacks-Tea_Coffee                      int64\n",
              "Afternoon_Breakfast                   object\n",
              "।_Prefer_any_food                     object\n",
              "Street_Food-Fuchka                     int64\n",
              "Street_Food-Velpuri                    int64\n",
              "Street_Food-Jhalmuri                   int64\n",
              "Street_Food-Singara                    int64\n",
              "Street_Food-Grill_Nan                  int64\n",
              "Street_Food-Chanachur                  int64\n",
              "Street_Food-Chhola                     int64\n",
              "Desserts-Sweet_Yogurt                  int64\n",
              "Desserts-Doi_Chira                     int64\n",
              "Desserts-Falooda                       int64\n",
              "Desserts-Rasmalai                      int64\n",
              "Desserts-Cake                          int64\n",
              "Desserts-Different_Types_of_Sweet      int64\n",
              "dtype: object"
            ]
          },
          "metadata": {},
          "execution_count": 10
        }
      ]
    },
    {
      "cell_type": "code",
      "metadata": {
        "colab": {
          "base_uri": "https://localhost:8080/"
        },
        "id": "wwc8KPDgJ5N5",
        "outputId": "66cd728c-bc3a-49a9-f79f-4b89d913d301"
      },
      "source": [
        "ds.max()"
      ],
      "execution_count": 11,
      "outputs": [
        {
          "output_type": "execute_result",
          "data": {
            "text/plain": [
              "Gender                                Male\n",
              "Age                                    40+\n",
              "BF-Paratha                               5\n",
              "BF-Bread                                 5\n",
              "BF-Fry Eggs                              5\n",
              "BF-Pulses                                5\n",
              "BF-Vegetables                            5\n",
              "BF-Tea                                   5\n",
              "BF-Coffee                                5\n",
              "BF-Green Tea                             5\n",
              "BF-Rice                                  5\n",
              "BF-Bread_Jelly                           5\n",
              "BF-Boil_Egg                              5\n",
              "BF-Fruit                                 5\n",
              "Lunch-Rice                               5\n",
              "Lunch-Biryani                            5\n",
              "Lunch-Fish Curry                         5\n",
              "Lunch-Chickens                           5\n",
              "Lunch-Beef_Mutton                        5\n",
              "Lunch-Vegetables                         5\n",
              "Lunch-Pulses                             5\n",
              "Dinner-Rice                              5\n",
              "Dinner-Bread                             5\n",
              "Dinner-Chickens                          5\n",
              "Dinner-Beef_Mutton                       5\n",
              "Dinner-Fish_Curry                        5\n",
              "Dinner-Vegetables                        5\n",
              "Dinner-Pulses                            5\n",
              "Snacks-Fast_Food                         5\n",
              "Snacks-Tea_Coffee                        5\n",
              "Afternoon_Breakfast                    Yes\n",
              "।_Prefer_any_food                    Sweet\n",
              "Street_Food-Fuchka                       5\n",
              "Street_Food-Velpuri                      5\n",
              "Street_Food-Jhalmuri                     5\n",
              "Street_Food-Singara                      5\n",
              "Street_Food-Grill_Nan                    5\n",
              "Street_Food-Chanachur                    5\n",
              "Street_Food-Chhola                       5\n",
              "Desserts-Sweet_Yogurt                    5\n",
              "Desserts-Doi_Chira                       5\n",
              "Desserts-Falooda                         5\n",
              "Desserts-Rasmalai                        5\n",
              "Desserts-Cake                            5\n",
              "Desserts-Different_Types_of_Sweet        5\n",
              "dtype: object"
            ]
          },
          "metadata": {},
          "execution_count": 11
        }
      ]
    },
    {
      "cell_type": "code",
      "metadata": {
        "colab": {
          "base_uri": "https://localhost:8080/"
        },
        "id": "b-_0LewMHGn8",
        "outputId": "87ede059-bf80-49b2-e429-2bf193d9ef14"
      },
      "source": [
        "ds.info()"
      ],
      "execution_count": 12,
      "outputs": [
        {
          "output_type": "stream",
          "name": "stdout",
          "text": [
            "<class 'pandas.core.frame.DataFrame'>\n",
            "RangeIndex: 1200 entries, 0 to 1199\n",
            "Data columns (total 45 columns):\n",
            " #   Column                             Non-Null Count  Dtype  \n",
            "---  ------                             --------------  -----  \n",
            " 0   Gender                             1200 non-null   object \n",
            " 1   Age                                1200 non-null   object \n",
            " 2   BF-Paratha                         1200 non-null   int64  \n",
            " 3   BF-Bread                           1200 non-null   int64  \n",
            " 4   BF-Fry Eggs                        1200 non-null   int64  \n",
            " 5   BF-Pulses                          1200 non-null   int64  \n",
            " 6   BF-Vegetables                      1200 non-null   int64  \n",
            " 7   BF-Tea                             1200 non-null   int64  \n",
            " 8   BF-Coffee                          1200 non-null   int64  \n",
            " 9   BF-Green Tea                       1200 non-null   int64  \n",
            " 10  BF-Rice                            1200 non-null   int64  \n",
            " 11  BF-Bread_Jelly                     1200 non-null   int64  \n",
            " 12  BF-Boil_Egg                        1200 non-null   int64  \n",
            " 13  BF-Fruit                           1200 non-null   int64  \n",
            " 14  Lunch-Rice                         1200 non-null   int64  \n",
            " 15  Lunch-Biryani                      1194 non-null   float64\n",
            " 16  Lunch-Fish Curry                   1200 non-null   int64  \n",
            " 17  Lunch-Chickens                     1200 non-null   int64  \n",
            " 18  Lunch-Beef_Mutton                  1200 non-null   int64  \n",
            " 19  Lunch-Vegetables                   1200 non-null   int64  \n",
            " 20  Lunch-Pulses                       1200 non-null   int64  \n",
            " 21  Dinner-Rice                        1200 non-null   int64  \n",
            " 22  Dinner-Bread                       1200 non-null   int64  \n",
            " 23  Dinner-Chickens                    1200 non-null   int64  \n",
            " 24  Dinner-Beef_Mutton                 1200 non-null   int64  \n",
            " 25  Dinner-Fish_Curry                  1200 non-null   int64  \n",
            " 26  Dinner-Vegetables                  1200 non-null   int64  \n",
            " 27  Dinner-Pulses                      1200 non-null   int64  \n",
            " 28  Snacks-Fast_Food                   1200 non-null   int64  \n",
            " 29  Snacks-Tea_Coffee                  1200 non-null   int64  \n",
            " 30  Afternoon_Breakfast                1200 non-null   object \n",
            " 31  ।_Prefer_any_food                  1200 non-null   object \n",
            " 32  Street_Food-Fuchka                 1200 non-null   int64  \n",
            " 33  Street_Food-Velpuri                1200 non-null   int64  \n",
            " 34  Street_Food-Jhalmuri               1200 non-null   int64  \n",
            " 35  Street_Food-Singara                1200 non-null   int64  \n",
            " 36  Street_Food-Grill_Nan              1200 non-null   int64  \n",
            " 37  Street_Food-Chanachur              1200 non-null   int64  \n",
            " 38  Street_Food-Chhola                 1200 non-null   int64  \n",
            " 39  Desserts-Sweet_Yogurt              1200 non-null   int64  \n",
            " 40  Desserts-Doi_Chira                 1200 non-null   int64  \n",
            " 41  Desserts-Falooda                   1200 non-null   int64  \n",
            " 42  Desserts-Rasmalai                  1200 non-null   int64  \n",
            " 43  Desserts-Cake                      1200 non-null   int64  \n",
            " 44  Desserts-Different_Types_of_Sweet  1200 non-null   int64  \n",
            "dtypes: float64(1), int64(40), object(4)\n",
            "memory usage: 422.0+ KB\n"
          ]
        }
      ]
    },
    {
      "cell_type": "markdown",
      "metadata": {
        "id": "ElzeAM9TD0_R"
      },
      "source": [
        "# Age percentage\n",
        "\n",
        "- Normalize\n",
        "- Value Counts"
      ]
    },
    {
      "cell_type": "code",
      "metadata": {
        "colab": {
          "base_uri": "https://localhost:8080/"
        },
        "id": "VJXFZxUfHQkK",
        "outputId": "3e0f970a-963e-4de5-c057-f4e5aedcc1a3"
      },
      "source": [
        "ds['Gender'].value_counts()"
      ],
      "execution_count": 13,
      "outputs": [
        {
          "output_type": "execute_result",
          "data": {
            "text/plain": [
              "Male      828\n",
              "Female    372\n",
              "Name: Gender, dtype: int64"
            ]
          },
          "metadata": {},
          "execution_count": 13
        }
      ]
    },
    {
      "cell_type": "code",
      "metadata": {
        "colab": {
          "base_uri": "https://localhost:8080/"
        },
        "id": "XYFwYSUbHa8f",
        "outputId": "2fe4af87-8fea-47cb-d8dc-b25b83643413"
      },
      "source": [
        "ds['Age'].value_counts(normalize=True)"
      ],
      "execution_count": 14,
      "outputs": [
        {
          "output_type": "execute_result",
          "data": {
            "text/plain": [
              "15--25    0.670833\n",
              "25--40    0.230833\n",
              "40+       0.098333\n",
              "Name: Age, dtype: float64"
            ]
          },
          "metadata": {},
          "execution_count": 14
        }
      ]
    },
    {
      "cell_type": "code",
      "metadata": {
        "colab": {
          "base_uri": "https://localhost:8080/"
        },
        "id": "IyD46qPsHUZ3",
        "outputId": "d24bea26-0491-46f0-b342-ea1f7dba0ff0"
      },
      "source": [
        "ds['Age'].value_counts(normalize=True) * 100"
      ],
      "execution_count": 15,
      "outputs": [
        {
          "output_type": "execute_result",
          "data": {
            "text/plain": [
              "15--25    67.083333\n",
              "25--40    23.083333\n",
              "40+        9.833333\n",
              "Name: Age, dtype: float64"
            ]
          },
          "metadata": {},
          "execution_count": 15
        }
      ]
    },
    {
      "cell_type": "code",
      "metadata": {
        "colab": {
          "base_uri": "https://localhost:8080/"
        },
        "id": "xfSL3D9QHlA-",
        "outputId": "fafdad22-d435-4f53-a3b5-8756792a33c8"
      },
      "source": [
        "ds[['Age','Gender']].value_counts(normalize=True) "
      ],
      "execution_count": 16,
      "outputs": [
        {
          "output_type": "execute_result",
          "data": {
            "text/plain": [
              "Age     Gender\n",
              "15--25  Male      0.466667\n",
              "        Female    0.204167\n",
              "25--40  Male      0.157500\n",
              "        Female    0.073333\n",
              "40+     Male      0.065833\n",
              "        Female    0.032500\n",
              "dtype: float64"
            ]
          },
          "metadata": {},
          "execution_count": 16
        }
      ]
    },
    {
      "cell_type": "code",
      "metadata": {
        "colab": {
          "base_uri": "https://localhost:8080/"
        },
        "id": "X-Gh7sJTHpK_",
        "outputId": "aab45b14-1ce9-4d74-97de-2e1238508fca"
      },
      "source": [
        "ds[['Age','Gender']].value_counts(normalize=True) * 100"
      ],
      "execution_count": 17,
      "outputs": [
        {
          "output_type": "execute_result",
          "data": {
            "text/plain": [
              "Age     Gender\n",
              "15--25  Male      46.666667\n",
              "        Female    20.416667\n",
              "25--40  Male      15.750000\n",
              "        Female     7.333333\n",
              "40+     Male       6.583333\n",
              "        Female     3.250000\n",
              "dtype: float64"
            ]
          },
          "metadata": {},
          "execution_count": 17
        }
      ]
    },
    {
      "cell_type": "code",
      "metadata": {
        "colab": {
          "base_uri": "https://localhost:8080/",
          "height": 334
        },
        "id": "B8mdLbuMWd7n",
        "outputId": "a310d204-7c12-4d8c-8f09-d6687d5ff95a"
      },
      "source": [
        "sns.countplot(x='Gender', data=ds)\n",
        "ds['Gender'].value_counts()"
      ],
      "execution_count": 18,
      "outputs": [
        {
          "output_type": "execute_result",
          "data": {
            "text/plain": [
              "Male      828\n",
              "Female    372\n",
              "Name: Gender, dtype: int64"
            ]
          },
          "metadata": {},
          "execution_count": 18
        },
        {
          "output_type": "display_data",
          "data": {
            "image/png": "[encoded data removed]",
            "text/plain": [
              "<Figure size 432x288 with 1 Axes>"
            ]
          },
          "metadata": {
            "needs_background": "light"
          }
        }
      ]
    },
    {
      "cell_type": "code",
      "metadata": {
        "colab": {
          "base_uri": "https://localhost:8080/",
          "height": 352
        },
        "id": "NLpD2fmBHzHY",
        "outputId": "af19ccbb-7f8c-40ab-9381-84c35e038d82"
      },
      "source": [
        "sns.countplot(x='Age', data=ds)\n",
        "ds['Age'].value_counts()"
      ],
      "execution_count": 19,
      "outputs": [
        {
          "output_type": "execute_result",
          "data": {
            "text/plain": [
              "15--25    805\n",
              "25--40    277\n",
              "40+       118\n",
              "Name: Age, dtype: int64"
            ]
          },
          "metadata": {},
          "execution_count": 19
        },
        {
          "output_type": "display_data",
          "data": {
            "image/png": "[encoded data removed]",
            "text/plain": [
              "<Figure size 432x288 with 1 Axes>"
            ]
          },
          "metadata": {
            "needs_background": "light"
          }
        }
      ]
    },
    {
      "cell_type": "markdown",
      "metadata": {
        "id": "5ZTvXR-QH5M_"
      },
      "source": [
        "# Breakfast \n",
        "\n",
        "- Every Foods Countplot Shows \n",
        "- Every column  together pairplot shows\n",
        "\n",
        "\n",
        "\n"
      ]
    },
    {
      "cell_type": "code",
      "metadata": {
        "colab": {
          "base_uri": "https://localhost:8080/",
          "height": 388
        },
        "id": "I_BjTMe8H-JS",
        "outputId": "7301feb7-f623-4cf0-c258-e53aefb278b5"
      },
      "source": [
        "#Breakfast-Paratha\n",
        "sns.countplot(x='BF-Paratha', data=ds,lw=4, ec='black', hatch='/');\n",
        "ds['BF-Paratha'].value_counts()"
      ],
      "execution_count": 20,
      "outputs": [
        {
          "output_type": "execute_result",
          "data": {
            "text/plain": [
              "3    309\n",
              "1    264\n",
              "5    213\n",
              "2    210\n",
              "4    204\n",
              "Name: BF-Paratha, dtype: int64"
            ]
          },
          "metadata": {},
          "execution_count": 20
        },
        {
          "output_type": "display_data",
          "data": {
            "image/png": "[encoded data removed]",
            "text/plain": [
              "<Figure size 432x288 with 1 Axes>"
            ]
          },
          "metadata": {
            "needs_background": "light"
          }
        }
      ]
    },
    {
      "cell_type": "code",
      "metadata": {
        "colab": {
          "base_uri": "https://localhost:8080/",
          "height": 388
        },
        "id": "OTbVfzGoIXcI",
        "outputId": "74b85e59-056d-4f86-8680-1ec1089da08b"
      },
      "source": [
        "#Breakfast-Bread\n",
        "sns.countplot(x='BF-Bread', data=ds,lw=4, ec='black', hatch='/');\n",
        "ds['BF-Bread'].value_counts()"
      ],
      "execution_count": 21,
      "outputs": [
        {
          "output_type": "execute_result",
          "data": {
            "text/plain": [
              "5    356\n",
              "4    304\n",
              "3    218\n",
              "2    163\n",
              "1    159\n",
              "Name: BF-Bread, dtype: int64"
            ]
          },
          "metadata": {},
          "execution_count": 21
        },
        {
          "output_type": "display_data",
          "data": {
            "image/png": "[encoded data removed]",
            "text/plain": [
              "<Figure size 432x288 with 1 Axes>"
            ]
          },
          "metadata": {
            "needs_background": "light"
          }
        }
      ]
    },
    {
      "cell_type": "code",
      "metadata": {
        "colab": {
          "base_uri": "https://localhost:8080/",
          "height": 388
        },
        "id": "gDBPHCq8Iz7C",
        "outputId": "05fcfd9c-5a52-469a-88fe-340159c5fa80"
      },
      "source": [
        "#Breakfast-Fry Eggs\n",
        "sns.countplot(x='BF-Fry Eggs',data=ds,lw=4, ec='black', hatch='/');\n",
        "ds['BF-Fry Eggs'].value_counts()"
      ],
      "execution_count": 22,
      "outputs": [
        {
          "output_type": "execute_result",
          "data": {
            "text/plain": [
              "4    351\n",
              "5    326\n",
              "3    248\n",
              "2    158\n",
              "1    117\n",
              "Name: BF-Fry Eggs, dtype: int64"
            ]
          },
          "metadata": {},
          "execution_count": 22
        },
        {
          "output_type": "display_data",
          "data": {
            "image/png": "[encoded data removed]",
            "text/plain": [
              "<Figure size 432x288 with 1 Axes>"
            ]
          },
          "metadata": {
            "needs_background": "light"
          }
        }
      ]
    },
    {
      "cell_type": "code",
      "metadata": {
        "id": "qJYWQqoZJCgL",
        "colab": {
          "base_uri": "https://localhost:8080/",
          "height": 388
        },
        "outputId": "e1ce4587-bfc8-4856-e488-e7bc23833118"
      },
      "source": [
        "#Breakfast-Pulses\n",
        "sns.countplot(x='BF-Pulses', data=ds,lw=4, ec='black', hatch='/');\n",
        "ds['BF-Pulses'].value_counts()"
      ],
      "execution_count": 23,
      "outputs": [
        {
          "output_type": "execute_result",
          "data": {
            "text/plain": [
              "3    318\n",
              "4    268\n",
              "1    243\n",
              "5    219\n",
              "2    152\n",
              "Name: BF-Pulses, dtype: int64"
            ]
          },
          "metadata": {},
          "execution_count": 23
        },
        {
          "output_type": "display_data",
          "data": {
            "image/png": "[encoded data removed]",
            "text/plain": [
              "<Figure size 432x288 with 1 Axes>"
            ]
          },
          "metadata": {
            "needs_background": "light"
          }
        }
      ]
    },
    {
      "cell_type": "code",
      "metadata": {
        "id": "nxHqeXTbEmd-",
        "colab": {
          "base_uri": "https://localhost:8080/",
          "height": 388
        },
        "outputId": "6bf72822-7da8-41bc-891a-802a05f67fb6"
      },
      "source": [
        "#Breakfast-Vegetables\n",
        "sns.countplot(x='BF-Vegetables',data=ds,lw=4, ec='black', hatch='/');\n",
        "ds['BF-Vegetables'].value_counts()"
      ],
      "execution_count": 24,
      "outputs": [
        {
          "output_type": "execute_result",
          "data": {
            "text/plain": [
              "5    357\n",
              "4    315\n",
              "3    247\n",
              "1    147\n",
              "2    134\n",
              "Name: BF-Vegetables, dtype: int64"
            ]
          },
          "metadata": {},
          "execution_count": 24
        },
        {
          "output_type": "display_data",
          "data": {
            "image/png": "[encoded data removed]",
            "text/plain": [
              "<Figure size 432x288 with 1 Axes>"
            ]
          },
          "metadata": {
            "needs_background": "light"
          }
        }
      ]
    },
    {
      "cell_type": "code",
      "metadata": {
        "id": "dBiDIqygExpI",
        "colab": {
          "base_uri": "https://localhost:8080/",
          "height": 388
        },
        "outputId": "20b62aa6-2c07-4b58-8ffd-51e6b3f63821"
      },
      "source": [
        "#Breakfast-Tea\n",
        "sns.countplot(x='BF-Tea', data=ds,lw=4, ec='black', hatch='/');\n",
        "ds['BF-Tea'].value_counts()"
      ],
      "execution_count": 25,
      "outputs": [
        {
          "output_type": "execute_result",
          "data": {
            "text/plain": [
              "5    366\n",
              "4    292\n",
              "1    231\n",
              "3    194\n",
              "2    117\n",
              "Name: BF-Tea, dtype: int64"
            ]
          },
          "metadata": {},
          "execution_count": 25
        },
        {
          "output_type": "display_data",
          "data": {
            "image/png": "[encoded data removed]",
            "text/plain": [
              "<Figure size 432x288 with 1 Axes>"
            ]
          },
          "metadata": {
            "needs_background": "light"
          }
        }
      ]
    },
    {
      "cell_type": "code",
      "metadata": {
        "id": "Rhm4Wh9iEzKS",
        "colab": {
          "base_uri": "https://localhost:8080/",
          "height": 388
        },
        "outputId": "a85ff50c-c412-4260-e297-bdbfd80271db"
      },
      "source": [
        "#Breakfast-Coffee\n",
        "sns.countplot(x='BF-Coffee',data=ds,lw=4, ec='black', hatch='/');\n",
        "ds['BF-Coffee'].value_counts()"
      ],
      "execution_count": 26,
      "outputs": [
        {
          "output_type": "execute_result",
          "data": {
            "text/plain": [
              "4    310\n",
              "1    297\n",
              "3    236\n",
              "5    210\n",
              "2    147\n",
              "Name: BF-Coffee, dtype: int64"
            ]
          },
          "metadata": {},
          "execution_count": 26
        },
        {
          "output_type": "display_data",
          "data": {
            "image/png": "[encoded data removed]",
            "text/plain": [
              "<Figure size 432x288 with 1 Axes>"
            ]
          },
          "metadata": {
            "needs_background": "light"
          }
        }
      ]
    },
    {
      "cell_type": "code",
      "metadata": {
        "id": "ZauvTfMQEzYs",
        "colab": {
          "base_uri": "https://localhost:8080/",
          "height": 388
        },
        "outputId": "96808014-7bfe-4f88-9b9b-20b895057744"
      },
      "source": [
        "#Breakfast-Green Tea\n",
        "sns.countplot(x='BF-Green Tea',data=ds,lw=4, ec='black', hatch='/');\n",
        "ds['BF-Green Tea'].value_counts()"
      ],
      "execution_count": 27,
      "outputs": [
        {
          "output_type": "execute_result",
          "data": {
            "text/plain": [
              "1    417\n",
              "3    242\n",
              "5    217\n",
              "4    184\n",
              "2    140\n",
              "Name: BF-Green Tea, dtype: int64"
            ]
          },
          "metadata": {},
          "execution_count": 27
        },
        {
          "output_type": "display_data",
          "data": {
            "image/png": "[encoded data removed]",
            "text/plain": [
              "<Figure size 432x288 with 1 Axes>"
            ]
          },
          "metadata": {
            "needs_background": "light"
          }
        }
      ]
    },
    {
      "cell_type": "code",
      "metadata": {
        "id": "f1FBtsG5EzhZ",
        "colab": {
          "base_uri": "https://localhost:8080/",
          "height": 389
        },
        "outputId": "93eaea21-9892-473c-cb55-814829af2a1c"
      },
      "source": [
        "#Breakfast-Rice\n",
        "sns.countplot(x='BF-Rice', data=ds,lw=4, ec='black', hatch='/');\n",
        "ds['BF-Rice'].value_counts()"
      ],
      "execution_count": 28,
      "outputs": [
        {
          "output_type": "execute_result",
          "data": {
            "text/plain": [
              "1    339\n",
              "4    274\n",
              "5    222\n",
              "3    219\n",
              "2    146\n",
              "Name: BF-Rice, dtype: int64"
            ]
          },
          "metadata": {},
          "execution_count": 28
        },
        {
          "output_type": "display_data",
          "data": {
            "image/png": "[encoded data removed]",
            "text/plain": [
              "<Figure size 432x288 with 1 Axes>"
            ]
          },
          "metadata": {
            "needs_background": "light"
          }
        }
      ]
    },
    {
      "cell_type": "code",
      "metadata": {
        "id": "aJjsRAibEznM",
        "colab": {
          "base_uri": "https://localhost:8080/",
          "height": 393
        },
        "outputId": "b5136569-bc18-4077-abd5-723acc364f44"
      },
      "source": [
        "#Breakfast-Bread_Jelly\n",
        "sns.countplot(x='BF-Bread_Jelly',data=ds,lw=4, ec='black', hatch='/');\n",
        "ds['BF-Bread_Jelly'].value_counts()"
      ],
      "execution_count": 29,
      "outputs": [
        {
          "output_type": "execute_result",
          "data": {
            "text/plain": [
              "1    381\n",
              "3    301\n",
              "4    179\n",
              "2    176\n",
              "5    163\n",
              "Name: BF-Bread_Jelly, dtype: int64"
            ]
          },
          "metadata": {},
          "execution_count": 29
        },
        {
          "output_type": "display_data",
          "data": {
            "image/png": "[encoded data removed]",
            "text/plain": [
              "<Figure size 432x288 with 1 Axes>"
            ]
          },
          "metadata": {
            "needs_background": "light"
          }
        }
      ]
    },
    {
      "cell_type": "code",
      "metadata": {
        "id": "gYSFE3tSEztL",
        "colab": {
          "base_uri": "https://localhost:8080/",
          "height": 389
        },
        "outputId": "be301bc8-74fe-4e8b-bf83-be1f9cae6047"
      },
      "source": [
        "#Breakfast-Boil_Egg\n",
        "sns.countplot(x='BF-Boil_Egg',data=ds,lw=4, ec='black', hatch='/');\n",
        "ds['BF-Boil_Egg'].value_counts()"
      ],
      "execution_count": 30,
      "outputs": [
        {
          "output_type": "execute_result",
          "data": {
            "text/plain": [
              "5    391\n",
              "4    285\n",
              "3    218\n",
              "1    189\n",
              "2    117\n",
              "Name: BF-Boil_Egg, dtype: int64"
            ]
          },
          "metadata": {},
          "execution_count": 30
        },
        {
          "output_type": "display_data",
          "data": {
            "image/png": "[encoded data removed]",
            "text/plain": [
              "<Figure size 432x288 with 1 Axes>"
            ]
          },
          "metadata": {
            "needs_background": "light"
          }
        }
      ]
    },
    {
      "cell_type": "code",
      "metadata": {
        "id": "2PCOuCnRFHp4",
        "colab": {
          "base_uri": "https://localhost:8080/",
          "height": 389
        },
        "outputId": "37cfd941-3504-48d8-ba9a-373bdf495acf"
      },
      "source": [
        "#Breakfast-Fruit\n",
        "sns.countplot(x='BF-Fruit',data=ds,lw=4, ec='black', hatch='/');\n",
        "ds['BF-Fruit'].value_counts()"
      ],
      "execution_count": 31,
      "outputs": [
        {
          "output_type": "execute_result",
          "data": {
            "text/plain": [
              "5    386\n",
              "4    267\n",
              "3    229\n",
              "1    195\n",
              "2    123\n",
              "Name: BF-Fruit, dtype: int64"
            ]
          },
          "metadata": {},
          "execution_count": 31
        },
        {
          "output_type": "display_data",
          "data": {
            "image/png": "[encoded data removed]",
            "text/plain": [
              "<Figure size 432x288 with 1 Axes>"
            ]
          },
          "metadata": {
            "needs_background": "light"
          }
        }
      ]
    },
    {
      "cell_type": "code",
      "metadata": {
        "id": "Z6sdzTblHOkd"
      },
      "source": [
        "BF_data = ds[['Gender', 'Age', 'BF-Paratha', 'BF-Bread','BF-Fry Eggs','BF-Pulses','BF-Vegetables','BF-Tea','BF-Coffee','BF-Green Tea','BF-Rice','BF-Bread_Jelly','BF-Boil_Egg','BF-Fruit']]"
      ],
      "execution_count": 32,
      "outputs": []
    },
    {
      "cell_type": "code",
      "metadata": {
        "id": "jOO1exiJHP0G",
        "colab": {
          "base_uri": "https://localhost:8080/",
          "height": 458
        },
        "outputId": "649f0d56-7c1b-43cd-e230-870094f2ba73"
      },
      "source": [
        "BF_data"
      ],
      "execution_count": 33,
      "outputs": [
        {
          "output_type": "execute_result",
          "data": {
            "text/html": [
              "<div>\n",
              "<style scoped>\n",
              "    .dataframe tbody tr th:only-of-type {\n",
              "        vertical-align: middle;\n",
              "    }\n",
              "\n",
              "    .dataframe tbody tr th {\n",
              "        vertical-align: top;\n",
              "    }\n",
              "\n",
              "    .dataframe thead th {\n",
              "        text-align: right;\n",
              "    }\n",
              "</style>\n",
              "<table border=\"1\" class=\"dataframe\">\n",
              "  <thead>\n",
              "    <tr style=\"text-align: right;\">\n",
              "      <th></th>\n",
              "      <th>Gender</th>\n",
              "      <th>Age</th>\n",
              "      <th>BF-Paratha</th>\n",
              "      <th>BF-Bread</th>\n",
              "      <th>BF-Fry Eggs</th>\n",
              "      <th>BF-Pulses</th>\n",
              "      <th>BF-Vegetables</th>\n",
              "      <th>BF-Tea</th>\n",
              "      <th>BF-Coffee</th>\n",
              "      <th>BF-Green Tea</th>\n",
              "      <th>BF-Rice</th>\n",
              "      <th>BF-Bread_Jelly</th>\n",
              "      <th>BF-Boil_Egg</th>\n",
              "      <th>BF-Fruit</th>\n",
              "    </tr>\n",
              "  </thead>\n",
              "  <tbody>\n",
              "    <tr>\n",
              "      <th>0</th>\n",
              "      <td>Male</td>\n",
              "      <td>15--25</td>\n",
              "      <td>4</td>\n",
              "      <td>4</td>\n",
              "      <td>5</td>\n",
              "      <td>5</td>\n",
              "      <td>5</td>\n",
              "      <td>5</td>\n",
              "      <td>3</td>\n",
              "      <td>4</td>\n",
              "      <td>3</td>\n",
              "      <td>2</td>\n",
              "      <td>5</td>\n",
              "      <td>5</td>\n",
              "    </tr>\n",
              "    <tr>\n",
              "      <th>1</th>\n",
              "      <td>Female</td>\n",
              "      <td>15--25</td>\n",
              "      <td>1</td>\n",
              "      <td>5</td>\n",
              "      <td>3</td>\n",
              "      <td>3</td>\n",
              "      <td>4</td>\n",
              "      <td>3</td>\n",
              "      <td>4</td>\n",
              "      <td>5</td>\n",
              "      <td>1</td>\n",
              "      <td>1</td>\n",
              "      <td>5</td>\n",
              "      <td>5</td>\n",
              "    </tr>\n",
              "    <tr>\n",
              "      <th>2</th>\n",
              "      <td>Male</td>\n",
              "      <td>15--25</td>\n",
              "      <td>5</td>\n",
              "      <td>5</td>\n",
              "      <td>4</td>\n",
              "      <td>3</td>\n",
              "      <td>5</td>\n",
              "      <td>5</td>\n",
              "      <td>4</td>\n",
              "      <td>5</td>\n",
              "      <td>3</td>\n",
              "      <td>3</td>\n",
              "      <td>5</td>\n",
              "      <td>5</td>\n",
              "    </tr>\n",
              "    <tr>\n",
              "      <th>3</th>\n",
              "      <td>Male</td>\n",
              "      <td>15--25</td>\n",
              "      <td>3</td>\n",
              "      <td>2</td>\n",
              "      <td>1</td>\n",
              "      <td>1</td>\n",
              "      <td>1</td>\n",
              "      <td>1</td>\n",
              "      <td>1</td>\n",
              "      <td>1</td>\n",
              "      <td>1</td>\n",
              "      <td>1</td>\n",
              "      <td>1</td>\n",
              "      <td>1</td>\n",
              "    </tr>\n",
              "    <tr>\n",
              "      <th>4</th>\n",
              "      <td>Male</td>\n",
              "      <td>15--25</td>\n",
              "      <td>5</td>\n",
              "      <td>5</td>\n",
              "      <td>3</td>\n",
              "      <td>3</td>\n",
              "      <td>5</td>\n",
              "      <td>5</td>\n",
              "      <td>3</td>\n",
              "      <td>5</td>\n",
              "      <td>3</td>\n",
              "      <td>3</td>\n",
              "      <td>5</td>\n",
              "      <td>5</td>\n",
              "    </tr>\n",
              "    <tr>\n",
              "      <th>...</th>\n",
              "      <td>...</td>\n",
              "      <td>...</td>\n",
              "      <td>...</td>\n",
              "      <td>...</td>\n",
              "      <td>...</td>\n",
              "      <td>...</td>\n",
              "      <td>...</td>\n",
              "      <td>...</td>\n",
              "      <td>...</td>\n",
              "      <td>...</td>\n",
              "      <td>...</td>\n",
              "      <td>...</td>\n",
              "      <td>...</td>\n",
              "      <td>...</td>\n",
              "    </tr>\n",
              "    <tr>\n",
              "      <th>1195</th>\n",
              "      <td>Male</td>\n",
              "      <td>15--25</td>\n",
              "      <td>3</td>\n",
              "      <td>4</td>\n",
              "      <td>3</td>\n",
              "      <td>4</td>\n",
              "      <td>3</td>\n",
              "      <td>4</td>\n",
              "      <td>3</td>\n",
              "      <td>4</td>\n",
              "      <td>5</td>\n",
              "      <td>5</td>\n",
              "      <td>4</td>\n",
              "      <td>3</td>\n",
              "    </tr>\n",
              "    <tr>\n",
              "      <th>1196</th>\n",
              "      <td>Male</td>\n",
              "      <td>40+</td>\n",
              "      <td>2</td>\n",
              "      <td>4</td>\n",
              "      <td>3</td>\n",
              "      <td>4</td>\n",
              "      <td>5</td>\n",
              "      <td>4</td>\n",
              "      <td>2</td>\n",
              "      <td>1</td>\n",
              "      <td>1</td>\n",
              "      <td>1</td>\n",
              "      <td>1</td>\n",
              "      <td>2</td>\n",
              "    </tr>\n",
              "    <tr>\n",
              "      <th>1197</th>\n",
              "      <td>Male</td>\n",
              "      <td>40+</td>\n",
              "      <td>4</td>\n",
              "      <td>4</td>\n",
              "      <td>5</td>\n",
              "      <td>3</td>\n",
              "      <td>4</td>\n",
              "      <td>3</td>\n",
              "      <td>5</td>\n",
              "      <td>4</td>\n",
              "      <td>4</td>\n",
              "      <td>4</td>\n",
              "      <td>4</td>\n",
              "      <td>4</td>\n",
              "    </tr>\n",
              "    <tr>\n",
              "      <th>1198</th>\n",
              "      <td>Male</td>\n",
              "      <td>25--40</td>\n",
              "      <td>3</td>\n",
              "      <td>4</td>\n",
              "      <td>3</td>\n",
              "      <td>4</td>\n",
              "      <td>3</td>\n",
              "      <td>4</td>\n",
              "      <td>3</td>\n",
              "      <td>4</td>\n",
              "      <td>5</td>\n",
              "      <td>5</td>\n",
              "      <td>5</td>\n",
              "      <td>5</td>\n",
              "    </tr>\n",
              "    <tr>\n",
              "      <th>1199</th>\n",
              "      <td>Male</td>\n",
              "      <td>15--25</td>\n",
              "      <td>1</td>\n",
              "      <td>1</td>\n",
              "      <td>4</td>\n",
              "      <td>4</td>\n",
              "      <td>2</td>\n",
              "      <td>1</td>\n",
              "      <td>1</td>\n",
              "      <td>3</td>\n",
              "      <td>1</td>\n",
              "      <td>1</td>\n",
              "      <td>3</td>\n",
              "      <td>1</td>\n",
              "    </tr>\n",
              "  </tbody>\n",
              "</table>\n",
              "<p>1200 rows × 14 columns</p>\n",
              "</div>"
            ],
            "text/plain": [
              "      Gender     Age  BF-Paratha  ...  BF-Bread_Jelly  BF-Boil_Egg  BF-Fruit\n",
              "0       Male  15--25           4  ...               2            5         5\n",
              "1     Female  15--25           1  ...               1            5         5\n",
              "2       Male  15--25           5  ...               3            5         5\n",
              "3       Male  15--25           3  ...               1            1         1\n",
              "4       Male  15--25           5  ...               3            5         5\n",
              "...      ...     ...         ...  ...             ...          ...       ...\n",
              "1195    Male  15--25           3  ...               5            4         3\n",
              "1196    Male     40+           2  ...               1            1         2\n",
              "1197    Male     40+           4  ...               4            4         4\n",
              "1198    Male  25--40           3  ...               5            5         5\n",
              "1199    Male  15--25           1  ...               1            3         1\n",
              "\n",
              "[1200 rows x 14 columns]"
            ]
          },
          "metadata": {},
          "execution_count": 33
        }
      ]
    },
    {
      "cell_type": "code",
      "metadata": {
        "colab": {
          "base_uri": "https://localhost:8080/",
          "height": 1000
        },
        "id": "tqBR_-H0HQBa",
        "outputId": "16769eb8-a9fa-4f9b-e858-1b295adf5023"
      },
      "source": [
        "sns.pairplot(BF_data)"
      ],
      "execution_count": 34,
      "outputs": [
        {
          "output_type": "execute_result",
          "data": {
            "text/plain": [
              "<seaborn.axisgrid.PairGrid at 0x7f6764f20ad0>"
            ]
          },
          "metadata": {},
          "execution_count": 34
        },
        {
          "output_type": "display_data",
          "data": {
            "image/png": "[encoded data removed]",
            "text/plain": [
              "<Figure size 2160x2160 with 156 Axes>"
            ]
          },
          "metadata": {
            "needs_background": "light"
          }
        }
      ]
    },
    {
      "cell_type": "code",
      "metadata": {
        "colab": {
          "base_uri": "https://localhost:8080/"
        },
        "id": "0hJqEi54HQGc",
        "outputId": "202f058b-5d1e-40f9-f827-f831a0508c14"
      },
      "source": [
        "ds.columns"
      ],
      "execution_count": 35,
      "outputs": [
        {
          "output_type": "execute_result",
          "data": {
            "text/plain": [
              "Index(['Gender', 'Age', 'BF-Paratha', 'BF-Bread', 'BF-Fry Eggs', 'BF-Pulses',\n",
              "       'BF-Vegetables', 'BF-Tea', 'BF-Coffee', 'BF-Green Tea', 'BF-Rice',\n",
              "       'BF-Bread_Jelly', 'BF-Boil_Egg', 'BF-Fruit', 'Lunch-Rice',\n",
              "       'Lunch-Biryani', 'Lunch-Fish Curry', 'Lunch-Chickens',\n",
              "       'Lunch-Beef_Mutton', 'Lunch-Vegetables', 'Lunch-Pulses', 'Dinner-Rice',\n",
              "       'Dinner-Bread', 'Dinner-Chickens', 'Dinner-Beef_Mutton',\n",
              "       'Dinner-Fish_Curry', 'Dinner-Vegetables', 'Dinner-Pulses',\n",
              "       'Snacks-Fast_Food', 'Snacks-Tea_Coffee', 'Afternoon_Breakfast',\n",
              "       '।_Prefer_any_food', 'Street_Food-Fuchka', 'Street_Food-Velpuri',\n",
              "       'Street_Food-Jhalmuri', 'Street_Food-Singara', 'Street_Food-Grill_Nan',\n",
              "       'Street_Food-Chanachur', 'Street_Food-Chhola', 'Desserts-Sweet_Yogurt',\n",
              "       'Desserts-Doi_Chira', 'Desserts-Falooda', 'Desserts-Rasmalai',\n",
              "       'Desserts-Cake', 'Desserts-Different_Types_of_Sweet'],\n",
              "      dtype='object')"
            ]
          },
          "metadata": {},
          "execution_count": 35
        }
      ]
    },
    {
      "cell_type": "code",
      "metadata": {
        "id": "DPPMScHEMyb8"
      },
      "source": [
        "Breakfast_feature = ['Gender', 'Age', 'BF-Paratha', 'BF-Bread', 'BF-Fry Eggs', 'BF-Pulses',\n",
        "       'BF-Vegetables', 'BF-Tea', 'BF-Coffee', 'BF-Green Tea', 'BF-Rice',\n",
        "       'BF-Bread_Jelly', 'BF-Boil_Egg', 'BF-Fruit']"
      ],
      "execution_count": 36,
      "outputs": []
    },
    {
      "cell_type": "code",
      "metadata": {
        "colab": {
          "base_uri": "https://localhost:8080/"
        },
        "id": "1tbFl6BLMyfU",
        "outputId": "706c31e0-7905-4fb5-a959-6093bd21e28b"
      },
      "source": [
        "list(enumerate(Breakfast_feature))"
      ],
      "execution_count": 37,
      "outputs": [
        {
          "output_type": "execute_result",
          "data": {
            "text/plain": [
              "[(0, 'Gender'),\n",
              " (1, 'Age'),\n",
              " (2, 'BF-Paratha'),\n",
              " (3, 'BF-Bread'),\n",
              " (4, 'BF-Fry Eggs'),\n",
              " (5, 'BF-Pulses'),\n",
              " (6, 'BF-Vegetables'),\n",
              " (7, 'BF-Tea'),\n",
              " (8, 'BF-Coffee'),\n",
              " (9, 'BF-Green Tea'),\n",
              " (10, 'BF-Rice'),\n",
              " (11, 'BF-Bread_Jelly'),\n",
              " (12, 'BF-Boil_Egg'),\n",
              " (13, 'BF-Fruit')]"
            ]
          },
          "metadata": {},
          "execution_count": 37
        }
      ]
    },
    {
      "cell_type": "code",
      "metadata": {
        "colab": {
          "base_uri": "https://localhost:8080/",
          "height": 1000
        },
        "id": "j3HMk_2iMyi8",
        "outputId": "15ded45d-4116-462c-b07e-eb2675c11ee8"
      },
      "source": [
        "plt.figure(figsize = (20, 30))\n",
        "for i in enumerate(Breakfast_feature):\n",
        "    plt.subplot(7, 3,i[0]+1)\n",
        "    sns.countplot(i[1], data=ds,lw=4, ec='black', hatch='/');\n",
        "    plt.xticks(rotation = 60)\n",
        "    \n",
        "    "
      ],
      "execution_count": 38,
      "outputs": [
        {
          "output_type": "stream",
          "name": "stderr",
          "text": [
            "/usr/local/lib/python3.7/dist-packages/seaborn/_decorators.py:43: FutureWarning: Pass the following variable as a keyword arg: x. From version 0.12, the only valid positional argument will be `data`, and passing other arguments without an explicit keyword will result in an error or misinterpretation.\n",
            "  FutureWarning\n",
            "/usr/local/lib/python3.7/dist-packages/seaborn/_decorators.py:43: FutureWarning: Pass the following variable as a keyword arg: x. From version 0.12, the only valid positional argument will be `data`, and passing other arguments without an explicit keyword will result in an error or misinterpretation.\n",
            "  FutureWarning\n",
            "/usr/local/lib/python3.7/dist-packages/seaborn/_decorators.py:43: FutureWarning: Pass the following variable as a keyword arg: x. From version 0.12, the only valid positional argument will be `data`, and passing other arguments without an explicit keyword will result in an error or misinterpretation.\n",
            "  FutureWarning\n",
            "/usr/local/lib/python3.7/dist-packages/seaborn/_decorators.py:43: FutureWarning: Pass the following variable as a keyword arg: x. From version 0.12, the only valid positional argument will be `data`, and passing other arguments without an explicit keyword will result in an error or misinterpretation.\n",
            "  FutureWarning\n",
            "/usr/local/lib/python3.7/dist-packages/seaborn/_decorators.py:43: FutureWarning: Pass the following variable as a keyword arg: x. From version 0.12, the only valid positional argument will be `data`, and passing other arguments without an explicit keyword will result in an error or misinterpretation.\n",
            "  FutureWarning\n",
            "/usr/local/lib/python3.7/dist-packages/seaborn/_decorators.py:43: FutureWarning: Pass the following variable as a keyword arg: x. From version 0.12, the only valid positional argument will be `data`, and passing other arguments without an explicit keyword will result in an error or misinterpretation.\n",
            "  FutureWarning\n",
            "/usr/local/lib/python3.7/dist-packages/seaborn/_decorators.py:43: FutureWarning: Pass the following variable as a keyword arg: x. From version 0.12, the only valid positional argument will be `data`, and passing other arguments without an explicit keyword will result in an error or misinterpretation.\n",
            "  FutureWarning\n",
            "/usr/local/lib/python3.7/dist-packages/seaborn/_decorators.py:43: FutureWarning: Pass the following variable as a keyword arg: x. From version 0.12, the only valid positional argument will be `data`, and passing other arguments without an explicit keyword will result in an error or misinterpretation.\n",
            "  FutureWarning\n",
            "/usr/local/lib/python3.7/dist-packages/seaborn/_decorators.py:43: FutureWarning: Pass the following variable as a keyword arg: x. From version 0.12, the only valid positional argument will be `data`, and passing other arguments without an explicit keyword will result in an error or misinterpretation.\n",
            "  FutureWarning\n",
            "/usr/local/lib/python3.7/dist-packages/seaborn/_decorators.py:43: FutureWarning: Pass the following variable as a keyword arg: x. From version 0.12, the only valid positional argument will be `data`, and passing other arguments without an explicit keyword will result in an error or misinterpretation.\n",
            "  FutureWarning\n",
            "/usr/local/lib/python3.7/dist-packages/seaborn/_decorators.py:43: FutureWarning: Pass the following variable as a keyword arg: x. From version 0.12, the only valid positional argument will be `data`, and passing other arguments without an explicit keyword will result in an error or misinterpretation.\n",
            "  FutureWarning\n",
            "/usr/local/lib/python3.7/dist-packages/seaborn/_decorators.py:43: FutureWarning: Pass the following variable as a keyword arg: x. From version 0.12, the only valid positional argument will be `data`, and passing other arguments without an explicit keyword will result in an error or misinterpretation.\n",
            "  FutureWarning\n",
            "/usr/local/lib/python3.7/dist-packages/seaborn/_decorators.py:43: FutureWarning: Pass the following variable as a keyword arg: x. From version 0.12, the only valid positional argument will be `data`, and passing other arguments without an explicit keyword will result in an error or misinterpretation.\n",
            "  FutureWarning\n",
            "/usr/local/lib/python3.7/dist-packages/seaborn/_decorators.py:43: FutureWarning: Pass the following variable as a keyword arg: x. From version 0.12, the only valid positional argument will be `data`, and passing other arguments without an explicit keyword will result in an error or misinterpretation.\n",
            "  FutureWarning\n"
          ]
        },
        {
          "output_type": "display_data",
          "data": {
            "image/png": "[encoded data removed]",
            "text/plain": [
              "<Figure size 1440x2160 with 14 Axes>"
            ]
          },
          "metadata": {
            "needs_background": "light"
          }
        }
      ]
    },
    {
      "cell_type": "markdown",
      "metadata": {
        "id": "g58--g8Prm7L"
      },
      "source": [
        "##Breakfast Split Dataset for Train and Test - Gender\n",
        "\n",
        "*   Split Dataset for Train and Test For gender\n",
        "\n"
      ]
    },
    {
      "cell_type": "code",
      "metadata": {
        "id": "51Vdl0x3MylY"
      },
      "source": [
        "X = ds[['BF-Paratha', 'BF-Bread', 'BF-Fry Eggs', 'BF-Pulses',\n",
        "       'BF-Vegetables', 'BF-Tea', 'BF-Coffee', 'BF-Green Tea', 'BF-Rice',\n",
        "       'BF-Bread_Jelly', 'BF-Boil_Egg', 'BF-Fruit',]] \n",
        "        \n",
        "#since x have to be two dimentional or 2D array. So [[]]"
      ],
      "execution_count": 81,
      "outputs": []
    },
    {
      "cell_type": "code",
      "metadata": {
        "id": "SrN_t4LEAThD"
      },
      "source": [
        "y = ds[['Gender']]"
      ],
      "execution_count": 82,
      "outputs": []
    },
    {
      "cell_type": "code",
      "metadata": {
        "id": "dxUBILQRAa72"
      },
      "source": [
        "from sklearn.model_selection import train_test_split\n",
        "X_train, X_test, y_train, y_test = train_test_split(X,y,test_size=0.2)\n",
        "#X_train, X_test, y_train, y_test = train_test_split(X,y,test_size=0.3,random_state=10) \n",
        "#if you use \"random_state=10\" then the smaple will be same all the time"
      ],
      "execution_count": 83,
      "outputs": []
    },
    {
      "cell_type": "code",
      "metadata": {
        "colab": {
          "base_uri": "https://localhost:8080/",
          "height": 441
        },
        "id": "d7tBCMySAbH1",
        "outputId": "649952ab-a66b-4a77-a1e0-8c231ce74479"
      },
      "source": [
        "X_train"
      ],
      "execution_count": 84,
      "outputs": [
        {
          "output_type": "execute_result",
          "data": {
            "text/html": [
              "<div>\n",
              "<style scoped>\n",
              "    .dataframe tbody tr th:only-of-type {\n",
              "        vertical-align: middle;\n",
              "    }\n",
              "\n",
              "    .dataframe tbody tr th {\n",
              "        vertical-align: top;\n",
              "    }\n",
              "\n",
              "    .dataframe thead th {\n",
              "        text-align: right;\n",
              "    }\n",
              "</style>\n",
              "<table border=\"1\" class=\"dataframe\">\n",
              "  <thead>\n",
              "    <tr style=\"text-align: right;\">\n",
              "      <th></th>\n",
              "      <th>BF-Paratha</th>\n",
              "      <th>BF-Bread</th>\n",
              "      <th>BF-Fry Eggs</th>\n",
              "      <th>BF-Pulses</th>\n",
              "      <th>BF-Vegetables</th>\n",
              "      <th>BF-Tea</th>\n",
              "      <th>BF-Coffee</th>\n",
              "      <th>BF-Green Tea</th>\n",
              "      <th>BF-Rice</th>\n",
              "      <th>BF-Bread_Jelly</th>\n",
              "      <th>BF-Boil_Egg</th>\n",
              "      <th>BF-Fruit</th>\n",
              "    </tr>\n",
              "  </thead>\n",
              "  <tbody>\n",
              "    <tr>\n",
              "      <th>234</th>\n",
              "      <td>4</td>\n",
              "      <td>4</td>\n",
              "      <td>4</td>\n",
              "      <td>1</td>\n",
              "      <td>2</td>\n",
              "      <td>4</td>\n",
              "      <td>4</td>\n",
              "      <td>1</td>\n",
              "      <td>1</td>\n",
              "      <td>1</td>\n",
              "      <td>1</td>\n",
              "      <td>1</td>\n",
              "    </tr>\n",
              "    <tr>\n",
              "      <th>950</th>\n",
              "      <td>3</td>\n",
              "      <td>3</td>\n",
              "      <td>3</td>\n",
              "      <td>3</td>\n",
              "      <td>3</td>\n",
              "      <td>4</td>\n",
              "      <td>5</td>\n",
              "      <td>4</td>\n",
              "      <td>1</td>\n",
              "      <td>3</td>\n",
              "      <td>3</td>\n",
              "      <td>3</td>\n",
              "    </tr>\n",
              "    <tr>\n",
              "      <th>1076</th>\n",
              "      <td>3</td>\n",
              "      <td>5</td>\n",
              "      <td>5</td>\n",
              "      <td>5</td>\n",
              "      <td>5</td>\n",
              "      <td>5</td>\n",
              "      <td>2</td>\n",
              "      <td>3</td>\n",
              "      <td>5</td>\n",
              "      <td>3</td>\n",
              "      <td>5</td>\n",
              "      <td>5</td>\n",
              "    </tr>\n",
              "    <tr>\n",
              "      <th>291</th>\n",
              "      <td>1</td>\n",
              "      <td>1</td>\n",
              "      <td>2</td>\n",
              "      <td>1</td>\n",
              "      <td>2</td>\n",
              "      <td>2</td>\n",
              "      <td>3</td>\n",
              "      <td>2</td>\n",
              "      <td>2</td>\n",
              "      <td>2</td>\n",
              "      <td>3</td>\n",
              "      <td>3</td>\n",
              "    </tr>\n",
              "    <tr>\n",
              "      <th>318</th>\n",
              "      <td>3</td>\n",
              "      <td>2</td>\n",
              "      <td>5</td>\n",
              "      <td>4</td>\n",
              "      <td>4</td>\n",
              "      <td>5</td>\n",
              "      <td>5</td>\n",
              "      <td>5</td>\n",
              "      <td>4</td>\n",
              "      <td>2</td>\n",
              "      <td>5</td>\n",
              "      <td>4</td>\n",
              "    </tr>\n",
              "    <tr>\n",
              "      <th>...</th>\n",
              "      <td>...</td>\n",
              "      <td>...</td>\n",
              "      <td>...</td>\n",
              "      <td>...</td>\n",
              "      <td>...</td>\n",
              "      <td>...</td>\n",
              "      <td>...</td>\n",
              "      <td>...</td>\n",
              "      <td>...</td>\n",
              "      <td>...</td>\n",
              "      <td>...</td>\n",
              "      <td>...</td>\n",
              "    </tr>\n",
              "    <tr>\n",
              "      <th>151</th>\n",
              "      <td>4</td>\n",
              "      <td>4</td>\n",
              "      <td>3</td>\n",
              "      <td>3</td>\n",
              "      <td>3</td>\n",
              "      <td>5</td>\n",
              "      <td>3</td>\n",
              "      <td>3</td>\n",
              "      <td>3</td>\n",
              "      <td>3</td>\n",
              "      <td>3</td>\n",
              "      <td>3</td>\n",
              "    </tr>\n",
              "    <tr>\n",
              "      <th>868</th>\n",
              "      <td>4</td>\n",
              "      <td>5</td>\n",
              "      <td>4</td>\n",
              "      <td>3</td>\n",
              "      <td>5</td>\n",
              "      <td>5</td>\n",
              "      <td>5</td>\n",
              "      <td>5</td>\n",
              "      <td>5</td>\n",
              "      <td>3</td>\n",
              "      <td>5</td>\n",
              "      <td>5</td>\n",
              "    </tr>\n",
              "    <tr>\n",
              "      <th>748</th>\n",
              "      <td>4</td>\n",
              "      <td>4</td>\n",
              "      <td>4</td>\n",
              "      <td>2</td>\n",
              "      <td>3</td>\n",
              "      <td>3</td>\n",
              "      <td>4</td>\n",
              "      <td>1</td>\n",
              "      <td>4</td>\n",
              "      <td>2</td>\n",
              "      <td>2</td>\n",
              "      <td>2</td>\n",
              "    </tr>\n",
              "    <tr>\n",
              "      <th>1110</th>\n",
              "      <td>3</td>\n",
              "      <td>4</td>\n",
              "      <td>5</td>\n",
              "      <td>2</td>\n",
              "      <td>5</td>\n",
              "      <td>3</td>\n",
              "      <td>5</td>\n",
              "      <td>5</td>\n",
              "      <td>1</td>\n",
              "      <td>1</td>\n",
              "      <td>5</td>\n",
              "      <td>5</td>\n",
              "    </tr>\n",
              "    <tr>\n",
              "      <th>1083</th>\n",
              "      <td>5</td>\n",
              "      <td>5</td>\n",
              "      <td>5</td>\n",
              "      <td>5</td>\n",
              "      <td>5</td>\n",
              "      <td>5</td>\n",
              "      <td>5</td>\n",
              "      <td>5</td>\n",
              "      <td>5</td>\n",
              "      <td>5</td>\n",
              "      <td>5</td>\n",
              "      <td>5</td>\n",
              "    </tr>\n",
              "  </tbody>\n",
              "</table>\n",
              "<p>960 rows × 12 columns</p>\n",
              "</div>"
            ],
            "text/plain": [
              "      BF-Paratha  BF-Bread  BF-Fry Eggs  ...  BF-Bread_Jelly  BF-Boil_Egg  BF-Fruit\n",
              "234            4         4            4  ...               1            1         1\n",
              "950            3         3            3  ...               3            3         3\n",
              "1076           3         5            5  ...               3            5         5\n",
              "291            1         1            2  ...               2            3         3\n",
              "318            3         2            5  ...               2            5         4\n",
              "...          ...       ...          ...  ...             ...          ...       ...\n",
              "151            4         4            3  ...               3            3         3\n",
              "868            4         5            4  ...               3            5         5\n",
              "748            4         4            4  ...               2            2         2\n",
              "1110           3         4            5  ...               1            5         5\n",
              "1083           5         5            5  ...               5            5         5\n",
              "\n",
              "[960 rows x 12 columns]"
            ]
          },
          "metadata": {},
          "execution_count": 84
        }
      ]
    },
    {
      "cell_type": "code",
      "metadata": {
        "colab": {
          "base_uri": "https://localhost:8080/",
          "height": 441
        },
        "id": "891eUCcPAbLJ",
        "outputId": "b64afdfd-3e19-4a06-ab9b-8804fbc4343c"
      },
      "source": [
        "X_test"
      ],
      "execution_count": 85,
      "outputs": [
        {
          "output_type": "execute_result",
          "data": {
            "text/html": [
              "<div>\n",
              "<style scoped>\n",
              "    .dataframe tbody tr th:only-of-type {\n",
              "        vertical-align: middle;\n",
              "    }\n",
              "\n",
              "    .dataframe tbody tr th {\n",
              "        vertical-align: top;\n",
              "    }\n",
              "\n",
              "    .dataframe thead th {\n",
              "        text-align: right;\n",
              "    }\n",
              "</style>\n",
              "<table border=\"1\" class=\"dataframe\">\n",
              "  <thead>\n",
              "    <tr style=\"text-align: right;\">\n",
              "      <th></th>\n",
              "      <th>BF-Paratha</th>\n",
              "      <th>BF-Bread</th>\n",
              "      <th>BF-Fry Eggs</th>\n",
              "      <th>BF-Pulses</th>\n",
              "      <th>BF-Vegetables</th>\n",
              "      <th>BF-Tea</th>\n",
              "      <th>BF-Coffee</th>\n",
              "      <th>BF-Green Tea</th>\n",
              "      <th>BF-Rice</th>\n",
              "      <th>BF-Bread_Jelly</th>\n",
              "      <th>BF-Boil_Egg</th>\n",
              "      <th>BF-Fruit</th>\n",
              "    </tr>\n",
              "  </thead>\n",
              "  <tbody>\n",
              "    <tr>\n",
              "      <th>546</th>\n",
              "      <td>3</td>\n",
              "      <td>4</td>\n",
              "      <td>4</td>\n",
              "      <td>3</td>\n",
              "      <td>4</td>\n",
              "      <td>3</td>\n",
              "      <td>3</td>\n",
              "      <td>4</td>\n",
              "      <td>4</td>\n",
              "      <td>1</td>\n",
              "      <td>2</td>\n",
              "      <td>4</td>\n",
              "    </tr>\n",
              "    <tr>\n",
              "      <th>751</th>\n",
              "      <td>2</td>\n",
              "      <td>2</td>\n",
              "      <td>2</td>\n",
              "      <td>3</td>\n",
              "      <td>2</td>\n",
              "      <td>2</td>\n",
              "      <td>4</td>\n",
              "      <td>3</td>\n",
              "      <td>3</td>\n",
              "      <td>5</td>\n",
              "      <td>4</td>\n",
              "      <td>3</td>\n",
              "    </tr>\n",
              "    <tr>\n",
              "      <th>413</th>\n",
              "      <td>4</td>\n",
              "      <td>5</td>\n",
              "      <td>4</td>\n",
              "      <td>3</td>\n",
              "      <td>4</td>\n",
              "      <td>5</td>\n",
              "      <td>3</td>\n",
              "      <td>5</td>\n",
              "      <td>1</td>\n",
              "      <td>3</td>\n",
              "      <td>5</td>\n",
              "      <td>5</td>\n",
              "    </tr>\n",
              "    <tr>\n",
              "      <th>694</th>\n",
              "      <td>5</td>\n",
              "      <td>5</td>\n",
              "      <td>5</td>\n",
              "      <td>5</td>\n",
              "      <td>5</td>\n",
              "      <td>5</td>\n",
              "      <td>1</td>\n",
              "      <td>1</td>\n",
              "      <td>1</td>\n",
              "      <td>1</td>\n",
              "      <td>5</td>\n",
              "      <td>1</td>\n",
              "    </tr>\n",
              "    <tr>\n",
              "      <th>386</th>\n",
              "      <td>3</td>\n",
              "      <td>4</td>\n",
              "      <td>3</td>\n",
              "      <td>4</td>\n",
              "      <td>3</td>\n",
              "      <td>4</td>\n",
              "      <td>3</td>\n",
              "      <td>4</td>\n",
              "      <td>5</td>\n",
              "      <td>5</td>\n",
              "      <td>5</td>\n",
              "      <td>5</td>\n",
              "    </tr>\n",
              "    <tr>\n",
              "      <th>...</th>\n",
              "      <td>...</td>\n",
              "      <td>...</td>\n",
              "      <td>...</td>\n",
              "      <td>...</td>\n",
              "      <td>...</td>\n",
              "      <td>...</td>\n",
              "      <td>...</td>\n",
              "      <td>...</td>\n",
              "      <td>...</td>\n",
              "      <td>...</td>\n",
              "      <td>...</td>\n",
              "      <td>...</td>\n",
              "    </tr>\n",
              "    <tr>\n",
              "      <th>247</th>\n",
              "      <td>5</td>\n",
              "      <td>5</td>\n",
              "      <td>5</td>\n",
              "      <td>1</td>\n",
              "      <td>5</td>\n",
              "      <td>5</td>\n",
              "      <td>3</td>\n",
              "      <td>2</td>\n",
              "      <td>1</td>\n",
              "      <td>1</td>\n",
              "      <td>5</td>\n",
              "      <td>5</td>\n",
              "    </tr>\n",
              "    <tr>\n",
              "      <th>290</th>\n",
              "      <td>5</td>\n",
              "      <td>1</td>\n",
              "      <td>5</td>\n",
              "      <td>1</td>\n",
              "      <td>5</td>\n",
              "      <td>5</td>\n",
              "      <td>5</td>\n",
              "      <td>1</td>\n",
              "      <td>1</td>\n",
              "      <td>1</td>\n",
              "      <td>5</td>\n",
              "      <td>1</td>\n",
              "    </tr>\n",
              "    <tr>\n",
              "      <th>316</th>\n",
              "      <td>5</td>\n",
              "      <td>5</td>\n",
              "      <td>5</td>\n",
              "      <td>3</td>\n",
              "      <td>3</td>\n",
              "      <td>5</td>\n",
              "      <td>5</td>\n",
              "      <td>5</td>\n",
              "      <td>1</td>\n",
              "      <td>5</td>\n",
              "      <td>5</td>\n",
              "      <td>5</td>\n",
              "    </tr>\n",
              "    <tr>\n",
              "      <th>1133</th>\n",
              "      <td>3</td>\n",
              "      <td>3</td>\n",
              "      <td>4</td>\n",
              "      <td>4</td>\n",
              "      <td>4</td>\n",
              "      <td>3</td>\n",
              "      <td>1</td>\n",
              "      <td>1</td>\n",
              "      <td>4</td>\n",
              "      <td>3</td>\n",
              "      <td>5</td>\n",
              "      <td>2</td>\n",
              "    </tr>\n",
              "    <tr>\n",
              "      <th>210</th>\n",
              "      <td>4</td>\n",
              "      <td>5</td>\n",
              "      <td>4</td>\n",
              "      <td>3</td>\n",
              "      <td>4</td>\n",
              "      <td>5</td>\n",
              "      <td>3</td>\n",
              "      <td>5</td>\n",
              "      <td>1</td>\n",
              "      <td>3</td>\n",
              "      <td>5</td>\n",
              "      <td>5</td>\n",
              "    </tr>\n",
              "  </tbody>\n",
              "</table>\n",
              "<p>240 rows × 12 columns</p>\n",
              "</div>"
            ],
            "text/plain": [
              "      BF-Paratha  BF-Bread  BF-Fry Eggs  ...  BF-Bread_Jelly  BF-Boil_Egg  BF-Fruit\n",
              "546            3         4            4  ...               1            2         4\n",
              "751            2         2            2  ...               5            4         3\n",
              "413            4         5            4  ...               3            5         5\n",
              "694            5         5            5  ...               1            5         1\n",
              "386            3         4            3  ...               5            5         5\n",
              "...          ...       ...          ...  ...             ...          ...       ...\n",
              "247            5         5            5  ...               1            5         5\n",
              "290            5         1            5  ...               1            5         1\n",
              "316            5         5            5  ...               5            5         5\n",
              "1133           3         3            4  ...               3            5         2\n",
              "210            4         5            4  ...               3            5         5\n",
              "\n",
              "[240 rows x 12 columns]"
            ]
          },
          "metadata": {},
          "execution_count": 85
        }
      ]
    },
    {
      "cell_type": "code",
      "metadata": {
        "colab": {
          "base_uri": "https://localhost:8080/",
          "height": 424
        },
        "id": "l4BAyukIAbOF",
        "outputId": "c6823667-2194-46f0-e23b-a2be0967d9e2"
      },
      "source": [
        "y_train"
      ],
      "execution_count": 86,
      "outputs": [
        {
          "output_type": "execute_result",
          "data": {
            "text/html": [
              "<div>\n",
              "<style scoped>\n",
              "    .dataframe tbody tr th:only-of-type {\n",
              "        vertical-align: middle;\n",
              "    }\n",
              "\n",
              "    .dataframe tbody tr th {\n",
              "        vertical-align: top;\n",
              "    }\n",
              "\n",
              "    .dataframe thead th {\n",
              "        text-align: right;\n",
              "    }\n",
              "</style>\n",
              "<table border=\"1\" class=\"dataframe\">\n",
              "  <thead>\n",
              "    <tr style=\"text-align: right;\">\n",
              "      <th></th>\n",
              "      <th>Gender</th>\n",
              "    </tr>\n",
              "  </thead>\n",
              "  <tbody>\n",
              "    <tr>\n",
              "      <th>234</th>\n",
              "      <td>Male</td>\n",
              "    </tr>\n",
              "    <tr>\n",
              "      <th>950</th>\n",
              "      <td>Female</td>\n",
              "    </tr>\n",
              "    <tr>\n",
              "      <th>1076</th>\n",
              "      <td>Female</td>\n",
              "    </tr>\n",
              "    <tr>\n",
              "      <th>291</th>\n",
              "      <td>Male</td>\n",
              "    </tr>\n",
              "    <tr>\n",
              "      <th>318</th>\n",
              "      <td>Male</td>\n",
              "    </tr>\n",
              "    <tr>\n",
              "      <th>...</th>\n",
              "      <td>...</td>\n",
              "    </tr>\n",
              "    <tr>\n",
              "      <th>151</th>\n",
              "      <td>Male</td>\n",
              "    </tr>\n",
              "    <tr>\n",
              "      <th>868</th>\n",
              "      <td>Male</td>\n",
              "    </tr>\n",
              "    <tr>\n",
              "      <th>748</th>\n",
              "      <td>Female</td>\n",
              "    </tr>\n",
              "    <tr>\n",
              "      <th>1110</th>\n",
              "      <td>Male</td>\n",
              "    </tr>\n",
              "    <tr>\n",
              "      <th>1083</th>\n",
              "      <td>Male</td>\n",
              "    </tr>\n",
              "  </tbody>\n",
              "</table>\n",
              "<p>960 rows × 1 columns</p>\n",
              "</div>"
            ],
            "text/plain": [
              "      Gender\n",
              "234     Male\n",
              "950   Female\n",
              "1076  Female\n",
              "291     Male\n",
              "318     Male\n",
              "...      ...\n",
              "151     Male\n",
              "868     Male\n",
              "748   Female\n",
              "1110    Male\n",
              "1083    Male\n",
              "\n",
              "[960 rows x 1 columns]"
            ]
          },
          "metadata": {},
          "execution_count": 86
        }
      ]
    },
    {
      "cell_type": "code",
      "metadata": {
        "colab": {
          "base_uri": "https://localhost:8080/",
          "height": 424
        },
        "id": "W5xF1O8jAbRH",
        "outputId": "d0b9a96f-cd01-45b3-af80-7aa967e5b460"
      },
      "source": [
        "y_test"
      ],
      "execution_count": 87,
      "outputs": [
        {
          "output_type": "execute_result",
          "data": {
            "text/html": [
              "<div>\n",
              "<style scoped>\n",
              "    .dataframe tbody tr th:only-of-type {\n",
              "        vertical-align: middle;\n",
              "    }\n",
              "\n",
              "    .dataframe tbody tr th {\n",
              "        vertical-align: top;\n",
              "    }\n",
              "\n",
              "    .dataframe thead th {\n",
              "        text-align: right;\n",
              "    }\n",
              "</style>\n",
              "<table border=\"1\" class=\"dataframe\">\n",
              "  <thead>\n",
              "    <tr style=\"text-align: right;\">\n",
              "      <th></th>\n",
              "      <th>Gender</th>\n",
              "    </tr>\n",
              "  </thead>\n",
              "  <tbody>\n",
              "    <tr>\n",
              "      <th>546</th>\n",
              "      <td>Male</td>\n",
              "    </tr>\n",
              "    <tr>\n",
              "      <th>751</th>\n",
              "      <td>Male</td>\n",
              "    </tr>\n",
              "    <tr>\n",
              "      <th>413</th>\n",
              "      <td>Male</td>\n",
              "    </tr>\n",
              "    <tr>\n",
              "      <th>694</th>\n",
              "      <td>Male</td>\n",
              "    </tr>\n",
              "    <tr>\n",
              "      <th>386</th>\n",
              "      <td>Male</td>\n",
              "    </tr>\n",
              "    <tr>\n",
              "      <th>...</th>\n",
              "      <td>...</td>\n",
              "    </tr>\n",
              "    <tr>\n",
              "      <th>247</th>\n",
              "      <td>Male</td>\n",
              "    </tr>\n",
              "    <tr>\n",
              "      <th>290</th>\n",
              "      <td>Male</td>\n",
              "    </tr>\n",
              "    <tr>\n",
              "      <th>316</th>\n",
              "      <td>Male</td>\n",
              "    </tr>\n",
              "    <tr>\n",
              "      <th>1133</th>\n",
              "      <td>Male</td>\n",
              "    </tr>\n",
              "    <tr>\n",
              "      <th>210</th>\n",
              "      <td>Male</td>\n",
              "    </tr>\n",
              "  </tbody>\n",
              "</table>\n",
              "<p>240 rows × 1 columns</p>\n",
              "</div>"
            ],
            "text/plain": [
              "     Gender\n",
              "546    Male\n",
              "751    Male\n",
              "413    Male\n",
              "694    Male\n",
              "386    Male\n",
              "...     ...\n",
              "247    Male\n",
              "290    Male\n",
              "316    Male\n",
              "1133   Male\n",
              "210    Male\n",
              "\n",
              "[240 rows x 1 columns]"
            ]
          },
          "metadata": {},
          "execution_count": 87
        }
      ]
    },
    {
      "cell_type": "markdown",
      "metadata": {
        "id": "oZ6-f67MCndn"
      },
      "source": [
        "###Choose the  Model"
      ]
    },
    {
      "cell_type": "markdown",
      "metadata": {
        "id": "Aei09i4MHKRn"
      },
      "source": [
        "####Decision Tree "
      ]
    },
    {
      "cell_type": "code",
      "metadata": {
        "colab": {
          "base_uri": "https://localhost:8080/"
        },
        "id": "UIDN1GemAlw8",
        "outputId": "ddcdcac9-abf7-4474-a219-4a58274781c4"
      },
      "source": [
        "tre=DecisionTreeClassifier()\n",
        "tre.fit(X_train,y_train)\n",
        "pred_tre=tre.predict(X_test)\n",
        "accu_tree=accuracy_score(y_test , pred_tre)*100\n",
        "accu_tree"
      ],
      "execution_count": 88,
      "outputs": [
        {
          "output_type": "execute_result",
          "data": {
            "text/plain": [
              "60.0"
            ]
          },
          "metadata": {},
          "execution_count": 88
        }
      ]
    },
    {
      "cell_type": "code",
      "metadata": {
        "colab": {
          "base_uri": "https://localhost:8080/"
        },
        "id": "yrRx7qckHUU_",
        "outputId": "29e4cc0b-46ce-48e8-f3a9-d3e6136c5acc"
      },
      "source": [
        "print(classification_report(y_test,pred_tre))"
      ],
      "execution_count": 89,
      "outputs": [
        {
          "output_type": "stream",
          "name": "stdout",
          "text": [
            "              precision    recall  f1-score   support\n",
            "\n",
            "      Female       0.27      0.24      0.25        68\n",
            "        Male       0.71      0.74      0.73       172\n",
            "\n",
            "    accuracy                           0.60       240\n",
            "   macro avg       0.49      0.49      0.49       240\n",
            "weighted avg       0.59      0.60      0.59       240\n",
            "\n"
          ]
        }
      ]
    },
    {
      "cell_type": "markdown",
      "metadata": {
        "id": "f5JpvaDGHqgP"
      },
      "source": [
        "#### KNN "
      ]
    },
    {
      "cell_type": "code",
      "metadata": {
        "colab": {
          "base_uri": "https://localhost:8080/"
        },
        "id": "jCA3DtopAlzz",
        "outputId": "8c0679d6-570d-4ef0-85db-8869371a4f29"
      },
      "source": [
        "tre=KNeighborsClassifier()\n",
        "tre.fit(X_train,y_train)\n",
        "pred_tre=tre.predict(X_test)\n",
        "accu_KNN=accuracy_score(y_test , pred_tre)*100\n",
        "accu_KNN\n"
      ],
      "execution_count": 90,
      "outputs": [
        {
          "output_type": "stream",
          "name": "stderr",
          "text": [
            "/usr/local/lib/python3.7/dist-packages/ipykernel_launcher.py:2: DataConversionWarning: A column-vector y was passed when a 1d array was expected. Please change the shape of y to (n_samples, ), for example using ravel().\n",
            "  \n"
          ]
        },
        {
          "output_type": "execute_result",
          "data": {
            "text/plain": [
              "64.16666666666667"
            ]
          },
          "metadata": {},
          "execution_count": 90
        }
      ]
    },
    {
      "cell_type": "code",
      "metadata": {
        "colab": {
          "base_uri": "https://localhost:8080/"
        },
        "id": "naD_8-aeHyMJ",
        "outputId": "924aebf5-5a27-4d00-ea12-94944753f443"
      },
      "source": [
        "print(classification_report(y_test,pred_tre))"
      ],
      "execution_count": 91,
      "outputs": [
        {
          "output_type": "stream",
          "name": "stdout",
          "text": [
            "              precision    recall  f1-score   support\n",
            "\n",
            "      Female       0.29      0.18      0.22        68\n",
            "        Male       0.72      0.83      0.77       172\n",
            "\n",
            "    accuracy                           0.64       240\n",
            "   macro avg       0.50      0.50      0.49       240\n",
            "weighted avg       0.59      0.64      0.61       240\n",
            "\n"
          ]
        }
      ]
    },
    {
      "cell_type": "markdown",
      "metadata": {
        "id": "WJCuAAh3IR5K"
      },
      "source": [
        "####AdaBoostClassifier"
      ]
    },
    {
      "cell_type": "code",
      "metadata": {
        "colab": {
          "base_uri": "https://localhost:8080/"
        },
        "id": "t--mgMBVAl26",
        "outputId": "6ab34b0c-a354-4a78-924e-0dfb85b68821"
      },
      "source": [
        "tre=AdaBoostClassifier()\n",
        "tre.fit(X_train,y_train)\n",
        "pred_tre=tre.predict(X_test)\n",
        "accu_Adaboost=accuracy_score(y_test , pred_tre)*100\n",
        "accu_Adaboost"
      ],
      "execution_count": 92,
      "outputs": [
        {
          "output_type": "stream",
          "name": "stderr",
          "text": [
            "/usr/local/lib/python3.7/dist-packages/sklearn/utils/validation.py:760: DataConversionWarning: A column-vector y was passed when a 1d array was expected. Please change the shape of y to (n_samples, ), for example using ravel().\n",
            "  y = column_or_1d(y, warn=True)\n"
          ]
        },
        {
          "output_type": "execute_result",
          "data": {
            "text/plain": [
              "72.08333333333333"
            ]
          },
          "metadata": {},
          "execution_count": 92
        }
      ]
    },
    {
      "cell_type": "code",
      "metadata": {
        "colab": {
          "base_uri": "https://localhost:8080/"
        },
        "id": "FBJWBwT1IXiC",
        "outputId": "5e7bd915-b65b-4e03-e8eb-4c3cfd092505"
      },
      "source": [
        "print(classification_report(y_test,pred_tre))"
      ],
      "execution_count": 93,
      "outputs": [
        {
          "output_type": "stream",
          "name": "stdout",
          "text": [
            "              precision    recall  f1-score   support\n",
            "\n",
            "      Female       0.57      0.06      0.11        68\n",
            "        Male       0.73      0.98      0.83       172\n",
            "\n",
            "    accuracy                           0.72       240\n",
            "   macro avg       0.65      0.52      0.47       240\n",
            "weighted avg       0.68      0.72      0.63       240\n",
            "\n"
          ]
        }
      ]
    },
    {
      "cell_type": "markdown",
      "metadata": {
        "id": "KN8DC3fvIbJi"
      },
      "source": [
        "####BaggingClassifier"
      ]
    },
    {
      "cell_type": "code",
      "metadata": {
        "colab": {
          "base_uri": "https://localhost:8080/"
        },
        "id": "GsxMY1mYDycC",
        "outputId": "72830e52-f1b4-44e5-c820-d0071b5e8da5"
      },
      "source": [
        "tre=BaggingClassifier()\n",
        "tre.fit(X_train,y_train)\n",
        "pred_tre=tre.predict(X_test)\n",
        "accu_Bagging=accuracy_score(y_test , pred_tre)*100\n",
        "accu_Bagging"
      ],
      "execution_count": 94,
      "outputs": [
        {
          "output_type": "stream",
          "name": "stderr",
          "text": [
            "/usr/local/lib/python3.7/dist-packages/sklearn/ensemble/_bagging.py:645: DataConversionWarning: A column-vector y was passed when a 1d array was expected. Please change the shape of y to (n_samples, ), for example using ravel().\n",
            "  y = column_or_1d(y, warn=True)\n"
          ]
        },
        {
          "output_type": "execute_result",
          "data": {
            "text/plain": [
              "62.916666666666664"
            ]
          },
          "metadata": {},
          "execution_count": 94
        }
      ]
    },
    {
      "cell_type": "code",
      "metadata": {
        "colab": {
          "base_uri": "https://localhost:8080/"
        },
        "id": "IBQPWNLnIjZB",
        "outputId": "d3d3b18a-e51b-40d3-b795-0077c456f89b"
      },
      "source": [
        "print(classification_report(y_test,pred_tre))"
      ],
      "execution_count": 95,
      "outputs": [
        {
          "output_type": "stream",
          "name": "stdout",
          "text": [
            "              precision    recall  f1-score   support\n",
            "\n",
            "      Female       0.27      0.18      0.21        68\n",
            "        Male       0.71      0.81      0.76       172\n",
            "\n",
            "    accuracy                           0.63       240\n",
            "   macro avg       0.49      0.49      0.48       240\n",
            "weighted avg       0.59      0.63      0.60       240\n",
            "\n"
          ]
        }
      ]
    },
    {
      "cell_type": "markdown",
      "metadata": {
        "id": "DhxFS3ZbIlMr"
      },
      "source": [
        "####GaussianNB"
      ]
    },
    {
      "cell_type": "code",
      "metadata": {
        "colab": {
          "base_uri": "https://localhost:8080/"
        },
        "id": "0VbO0m8gH5My",
        "outputId": "5b554362-a08f-4720-b820-80cdf8f7d6bf"
      },
      "source": [
        "\n",
        "tre=GaussianNB()\n",
        "tre.fit(X_train,y_train)\n",
        "pred_tre=tre.predict(X_test)\n",
        "accu_Gaussian=accuracy_score(y_test , pred_tre)*100\n",
        "accu_Gaussian"
      ],
      "execution_count": 96,
      "outputs": [
        {
          "output_type": "stream",
          "name": "stderr",
          "text": [
            "/usr/local/lib/python3.7/dist-packages/sklearn/naive_bayes.py:206: DataConversionWarning: A column-vector y was passed when a 1d array was expected. Please change the shape of y to (n_samples, ), for example using ravel().\n",
            "  y = column_or_1d(y, warn=True)\n"
          ]
        },
        {
          "output_type": "execute_result",
          "data": {
            "text/plain": [
              "71.66666666666667"
            ]
          },
          "metadata": {},
          "execution_count": 96
        }
      ]
    },
    {
      "cell_type": "code",
      "metadata": {
        "colab": {
          "base_uri": "https://localhost:8080/"
        },
        "id": "oNjRggZTIps6",
        "outputId": "d02dc747-9b6d-4964-cd40-22edd5ffc2a4"
      },
      "source": [
        "print(classification_report(y_test,pred_tre))"
      ],
      "execution_count": 97,
      "outputs": [
        {
          "output_type": "stream",
          "name": "stdout",
          "text": [
            "              precision    recall  f1-score   support\n",
            "\n",
            "      Female       0.00      0.00      0.00        68\n",
            "        Male       0.72      1.00      0.83       172\n",
            "\n",
            "    accuracy                           0.72       240\n",
            "   macro avg       0.36      0.50      0.42       240\n",
            "weighted avg       0.51      0.72      0.60       240\n",
            "\n"
          ]
        },
        {
          "output_type": "stream",
          "name": "stderr",
          "text": [
            "/usr/local/lib/python3.7/dist-packages/sklearn/metrics/_classification.py:1272: UndefinedMetricWarning: Precision and F-score are ill-defined and being set to 0.0 in labels with no predicted samples. Use `zero_division` parameter to control this behavior.\n",
            "  _warn_prf(average, modifier, msg_start, len(result))\n"
          ]
        }
      ]
    },
    {
      "cell_type": "markdown",
      "metadata": {
        "id": "HDtS1a1pIsvt"
      },
      "source": [
        "####ExtraTreesClassifier"
      ]
    },
    {
      "cell_type": "code",
      "metadata": {
        "colab": {
          "base_uri": "https://localhost:8080/"
        },
        "id": "FEaDnLwwH5Dl",
        "outputId": "f25960eb-15ae-4188-fb63-2afa833a0a11"
      },
      "source": [
        "\n",
        "tre=ExtraTreesClassifier()\n",
        "tre.fit(X_train,y_train)\n",
        "pred_tre=tre.predict(X_test)\n",
        "accu_Extratree=accuracy_score(y_test , pred_tre)*100\n",
        "accu_Extratree"
      ],
      "execution_count": 98,
      "outputs": [
        {
          "output_type": "stream",
          "name": "stderr",
          "text": [
            "/usr/local/lib/python3.7/dist-packages/ipykernel_launcher.py:3: DataConversionWarning: A column-vector y was passed when a 1d array was expected. Please change the shape of y to (n_samples,), for example using ravel().\n",
            "  This is separate from the ipykernel package so we can avoid doing imports until\n"
          ]
        },
        {
          "output_type": "execute_result",
          "data": {
            "text/plain": [
              "60.0"
            ]
          },
          "metadata": {},
          "execution_count": 98
        }
      ]
    },
    {
      "cell_type": "code",
      "metadata": {
        "colab": {
          "base_uri": "https://localhost:8080/"
        },
        "id": "ct4fa5YeH46z",
        "outputId": "0a5bbfd9-c952-4627-a8b8-17e568ccf629"
      },
      "source": [
        "print(classification_report(y_test,pred_tre))"
      ],
      "execution_count": 99,
      "outputs": [
        {
          "output_type": "stream",
          "name": "stdout",
          "text": [
            "              precision    recall  f1-score   support\n",
            "\n",
            "      Female       0.27      0.24      0.25        68\n",
            "        Male       0.71      0.74      0.73       172\n",
            "\n",
            "    accuracy                           0.60       240\n",
            "   macro avg       0.49      0.49      0.49       240\n",
            "weighted avg       0.59      0.60      0.59       240\n",
            "\n"
          ]
        }
      ]
    },
    {
      "cell_type": "markdown",
      "metadata": {
        "id": "JvME3rGsEQBJ"
      },
      "source": [
        "## Breakfast Split Dataset for Train and Test - Age"
      ]
    },
    {
      "cell_type": "code",
      "metadata": {
        "id": "hr5SnAroEXXH"
      },
      "source": [
        "X = ds[['BF-Paratha', 'BF-Bread', 'BF-Fry Eggs', 'BF-Pulses',\n",
        "       'BF-Vegetables', 'BF-Tea', 'BF-Coffee', 'BF-Green Tea', 'BF-Rice',\n",
        "       'BF-Bread_Jelly', 'BF-Boil_Egg', 'BF-Fruit',]] \n",
        "        \n",
        "#since x have to be two dimentional or 2D array. So [[]]"
      ],
      "execution_count": 100,
      "outputs": []
    },
    {
      "cell_type": "code",
      "metadata": {
        "id": "nxCFVDueEXjO"
      },
      "source": [
        "y = ds[['Age']]"
      ],
      "execution_count": 101,
      "outputs": []
    },
    {
      "cell_type": "code",
      "metadata": {
        "id": "eG7JfxS-EXmR"
      },
      "source": [
        "from sklearn.model_selection import train_test_split\n",
        "X_train, X_test, y_train, y_test = train_test_split(X,y,test_size=0.2)"
      ],
      "execution_count": 102,
      "outputs": []
    },
    {
      "cell_type": "code",
      "metadata": {
        "colab": {
          "base_uri": "https://localhost:8080/",
          "height": 441
        },
        "id": "0EAXxbS1EXpo",
        "outputId": "8c3bc807-0c1f-4096-eba0-d210394d2b8b"
      },
      "source": [
        "X_train"
      ],
      "execution_count": 103,
      "outputs": [
        {
          "output_type": "execute_result",
          "data": {
            "text/html": [
              "<div>\n",
              "<style scoped>\n",
              "    .dataframe tbody tr th:only-of-type {\n",
              "        vertical-align: middle;\n",
              "    }\n",
              "\n",
              "    .dataframe tbody tr th {\n",
              "        vertical-align: top;\n",
              "    }\n",
              "\n",
              "    .dataframe thead th {\n",
              "        text-align: right;\n",
              "    }\n",
              "</style>\n",
              "<table border=\"1\" class=\"dataframe\">\n",
              "  <thead>\n",
              "    <tr style=\"text-align: right;\">\n",
              "      <th></th>\n",
              "      <th>BF-Paratha</th>\n",
              "      <th>BF-Bread</th>\n",
              "      <th>BF-Fry Eggs</th>\n",
              "      <th>BF-Pulses</th>\n",
              "      <th>BF-Vegetables</th>\n",
              "      <th>BF-Tea</th>\n",
              "      <th>BF-Coffee</th>\n",
              "      <th>BF-Green Tea</th>\n",
              "      <th>BF-Rice</th>\n",
              "      <th>BF-Bread_Jelly</th>\n",
              "      <th>BF-Boil_Egg</th>\n",
              "      <th>BF-Fruit</th>\n",
              "    </tr>\n",
              "  </thead>\n",
              "  <tbody>\n",
              "    <tr>\n",
              "      <th>634</th>\n",
              "      <td>5</td>\n",
              "      <td>4</td>\n",
              "      <td>4</td>\n",
              "      <td>3</td>\n",
              "      <td>5</td>\n",
              "      <td>2</td>\n",
              "      <td>3</td>\n",
              "      <td>5</td>\n",
              "      <td>5</td>\n",
              "      <td>3</td>\n",
              "      <td>4</td>\n",
              "      <td>5</td>\n",
              "    </tr>\n",
              "    <tr>\n",
              "      <th>979</th>\n",
              "      <td>1</td>\n",
              "      <td>5</td>\n",
              "      <td>2</td>\n",
              "      <td>5</td>\n",
              "      <td>5</td>\n",
              "      <td>1</td>\n",
              "      <td>1</td>\n",
              "      <td>1</td>\n",
              "      <td>5</td>\n",
              "      <td>1</td>\n",
              "      <td>3</td>\n",
              "      <td>3</td>\n",
              "    </tr>\n",
              "    <tr>\n",
              "      <th>374</th>\n",
              "      <td>3</td>\n",
              "      <td>4</td>\n",
              "      <td>3</td>\n",
              "      <td>4</td>\n",
              "      <td>3</td>\n",
              "      <td>4</td>\n",
              "      <td>4</td>\n",
              "      <td>4</td>\n",
              "      <td>5</td>\n",
              "      <td>4</td>\n",
              "      <td>5</td>\n",
              "      <td>5</td>\n",
              "    </tr>\n",
              "    <tr>\n",
              "      <th>664</th>\n",
              "      <td>3</td>\n",
              "      <td>5</td>\n",
              "      <td>5</td>\n",
              "      <td>5</td>\n",
              "      <td>5</td>\n",
              "      <td>5</td>\n",
              "      <td>5</td>\n",
              "      <td>5</td>\n",
              "      <td>5</td>\n",
              "      <td>3</td>\n",
              "      <td>5</td>\n",
              "      <td>5</td>\n",
              "    </tr>\n",
              "    <tr>\n",
              "      <th>235</th>\n",
              "      <td>3</td>\n",
              "      <td>2</td>\n",
              "      <td>3</td>\n",
              "      <td>2</td>\n",
              "      <td>3</td>\n",
              "      <td>2</td>\n",
              "      <td>3</td>\n",
              "      <td>2</td>\n",
              "      <td>2</td>\n",
              "      <td>2</td>\n",
              "      <td>3</td>\n",
              "      <td>2</td>\n",
              "    </tr>\n",
              "    <tr>\n",
              "      <th>...</th>\n",
              "      <td>...</td>\n",
              "      <td>...</td>\n",
              "      <td>...</td>\n",
              "      <td>...</td>\n",
              "      <td>...</td>\n",
              "      <td>...</td>\n",
              "      <td>...</td>\n",
              "      <td>...</td>\n",
              "      <td>...</td>\n",
              "      <td>...</td>\n",
              "      <td>...</td>\n",
              "      <td>...</td>\n",
              "    </tr>\n",
              "    <tr>\n",
              "      <th>767</th>\n",
              "      <td>3</td>\n",
              "      <td>5</td>\n",
              "      <td>4</td>\n",
              "      <td>5</td>\n",
              "      <td>5</td>\n",
              "      <td>5</td>\n",
              "      <td>5</td>\n",
              "      <td>5</td>\n",
              "      <td>5</td>\n",
              "      <td>5</td>\n",
              "      <td>5</td>\n",
              "      <td>5</td>\n",
              "    </tr>\n",
              "    <tr>\n",
              "      <th>380</th>\n",
              "      <td>2</td>\n",
              "      <td>3</td>\n",
              "      <td>3</td>\n",
              "      <td>3</td>\n",
              "      <td>3</td>\n",
              "      <td>3</td>\n",
              "      <td>3</td>\n",
              "      <td>3</td>\n",
              "      <td>3</td>\n",
              "      <td>3</td>\n",
              "      <td>3</td>\n",
              "      <td>3</td>\n",
              "    </tr>\n",
              "    <tr>\n",
              "      <th>566</th>\n",
              "      <td>4</td>\n",
              "      <td>3</td>\n",
              "      <td>2</td>\n",
              "      <td>3</td>\n",
              "      <td>2</td>\n",
              "      <td>3</td>\n",
              "      <td>2</td>\n",
              "      <td>3</td>\n",
              "      <td>3</td>\n",
              "      <td>2</td>\n",
              "      <td>3</td>\n",
              "      <td>3</td>\n",
              "    </tr>\n",
              "    <tr>\n",
              "      <th>1055</th>\n",
              "      <td>3</td>\n",
              "      <td>1</td>\n",
              "      <td>4</td>\n",
              "      <td>3</td>\n",
              "      <td>2</td>\n",
              "      <td>1</td>\n",
              "      <td>1</td>\n",
              "      <td>1</td>\n",
              "      <td>3</td>\n",
              "      <td>1</td>\n",
              "      <td>3</td>\n",
              "      <td>1</td>\n",
              "    </tr>\n",
              "    <tr>\n",
              "      <th>843</th>\n",
              "      <td>4</td>\n",
              "      <td>4</td>\n",
              "      <td>4</td>\n",
              "      <td>1</td>\n",
              "      <td>2</td>\n",
              "      <td>4</td>\n",
              "      <td>4</td>\n",
              "      <td>1</td>\n",
              "      <td>1</td>\n",
              "      <td>1</td>\n",
              "      <td>1</td>\n",
              "      <td>1</td>\n",
              "    </tr>\n",
              "  </tbody>\n",
              "</table>\n",
              "<p>960 rows × 12 columns</p>\n",
              "</div>"
            ],
            "text/plain": [
              "      BF-Paratha  BF-Bread  BF-Fry Eggs  ...  BF-Bread_Jelly  BF-Boil_Egg  BF-Fruit\n",
              "634            5         4            4  ...               3            4         5\n",
              "979            1         5            2  ...               1            3         3\n",
              "374            3         4            3  ...               4            5         5\n",
              "664            3         5            5  ...               3            5         5\n",
              "235            3         2            3  ...               2            3         2\n",
              "...          ...       ...          ...  ...             ...          ...       ...\n",
              "767            3         5            4  ...               5            5         5\n",
              "380            2         3            3  ...               3            3         3\n",
              "566            4         3            2  ...               2            3         3\n",
              "1055           3         1            4  ...               1            3         1\n",
              "843            4         4            4  ...               1            1         1\n",
              "\n",
              "[960 rows x 12 columns]"
            ]
          },
          "metadata": {},
          "execution_count": 103
        }
      ]
    },
    {
      "cell_type": "code",
      "metadata": {
        "colab": {
          "base_uri": "https://localhost:8080/",
          "height": 441
        },
        "id": "uKVHjEhcEXsg",
        "outputId": "b3670845-f473-4c78-bcb8-d43256437f02"
      },
      "source": [
        "X_test"
      ],
      "execution_count": 104,
      "outputs": [
        {
          "output_type": "execute_result",
          "data": {
            "text/html": [
              "<div>\n",
              "<style scoped>\n",
              "    .dataframe tbody tr th:only-of-type {\n",
              "        vertical-align: middle;\n",
              "    }\n",
              "\n",
              "    .dataframe tbody tr th {\n",
              "        vertical-align: top;\n",
              "    }\n",
              "\n",
              "    .dataframe thead th {\n",
              "        text-align: right;\n",
              "    }\n",
              "</style>\n",
              "<table border=\"1\" class=\"dataframe\">\n",
              "  <thead>\n",
              "    <tr style=\"text-align: right;\">\n",
              "      <th></th>\n",
              "      <th>BF-Paratha</th>\n",
              "      <th>BF-Bread</th>\n",
              "      <th>BF-Fry Eggs</th>\n",
              "      <th>BF-Pulses</th>\n",
              "      <th>BF-Vegetables</th>\n",
              "      <th>BF-Tea</th>\n",
              "      <th>BF-Coffee</th>\n",
              "      <th>BF-Green Tea</th>\n",
              "      <th>BF-Rice</th>\n",
              "      <th>BF-Bread_Jelly</th>\n",
              "      <th>BF-Boil_Egg</th>\n",
              "      <th>BF-Fruit</th>\n",
              "    </tr>\n",
              "  </thead>\n",
              "  <tbody>\n",
              "    <tr>\n",
              "      <th>158</th>\n",
              "      <td>3</td>\n",
              "      <td>5</td>\n",
              "      <td>4</td>\n",
              "      <td>5</td>\n",
              "      <td>5</td>\n",
              "      <td>5</td>\n",
              "      <td>5</td>\n",
              "      <td>5</td>\n",
              "      <td>5</td>\n",
              "      <td>5</td>\n",
              "      <td>5</td>\n",
              "      <td>5</td>\n",
              "    </tr>\n",
              "    <tr>\n",
              "      <th>851</th>\n",
              "      <td>4</td>\n",
              "      <td>4</td>\n",
              "      <td>5</td>\n",
              "      <td>5</td>\n",
              "      <td>4</td>\n",
              "      <td>4</td>\n",
              "      <td>5</td>\n",
              "      <td>4</td>\n",
              "      <td>4</td>\n",
              "      <td>5</td>\n",
              "      <td>4</td>\n",
              "      <td>5</td>\n",
              "    </tr>\n",
              "    <tr>\n",
              "      <th>1084</th>\n",
              "      <td>5</td>\n",
              "      <td>5</td>\n",
              "      <td>4</td>\n",
              "      <td>4</td>\n",
              "      <td>4</td>\n",
              "      <td>5</td>\n",
              "      <td>4</td>\n",
              "      <td>2</td>\n",
              "      <td>4</td>\n",
              "      <td>2</td>\n",
              "      <td>4</td>\n",
              "      <td>4</td>\n",
              "    </tr>\n",
              "    <tr>\n",
              "      <th>1195</th>\n",
              "      <td>3</td>\n",
              "      <td>4</td>\n",
              "      <td>3</td>\n",
              "      <td>4</td>\n",
              "      <td>3</td>\n",
              "      <td>4</td>\n",
              "      <td>3</td>\n",
              "      <td>4</td>\n",
              "      <td>5</td>\n",
              "      <td>5</td>\n",
              "      <td>4</td>\n",
              "      <td>3</td>\n",
              "    </tr>\n",
              "    <tr>\n",
              "      <th>974</th>\n",
              "      <td>3</td>\n",
              "      <td>4</td>\n",
              "      <td>3</td>\n",
              "      <td>4</td>\n",
              "      <td>3</td>\n",
              "      <td>2</td>\n",
              "      <td>2</td>\n",
              "      <td>2</td>\n",
              "      <td>3</td>\n",
              "      <td>4</td>\n",
              "      <td>5</td>\n",
              "      <td>4</td>\n",
              "    </tr>\n",
              "    <tr>\n",
              "      <th>...</th>\n",
              "      <td>...</td>\n",
              "      <td>...</td>\n",
              "      <td>...</td>\n",
              "      <td>...</td>\n",
              "      <td>...</td>\n",
              "      <td>...</td>\n",
              "      <td>...</td>\n",
              "      <td>...</td>\n",
              "      <td>...</td>\n",
              "      <td>...</td>\n",
              "      <td>...</td>\n",
              "      <td>...</td>\n",
              "    </tr>\n",
              "    <tr>\n",
              "      <th>591</th>\n",
              "      <td>1</td>\n",
              "      <td>5</td>\n",
              "      <td>5</td>\n",
              "      <td>3</td>\n",
              "      <td>2</td>\n",
              "      <td>5</td>\n",
              "      <td>3</td>\n",
              "      <td>2</td>\n",
              "      <td>5</td>\n",
              "      <td>3</td>\n",
              "      <td>3</td>\n",
              "      <td>3</td>\n",
              "    </tr>\n",
              "    <tr>\n",
              "      <th>551</th>\n",
              "      <td>1</td>\n",
              "      <td>2</td>\n",
              "      <td>2</td>\n",
              "      <td>1</td>\n",
              "      <td>2</td>\n",
              "      <td>1</td>\n",
              "      <td>1</td>\n",
              "      <td>2</td>\n",
              "      <td>2</td>\n",
              "      <td>1</td>\n",
              "      <td>1</td>\n",
              "      <td>3</td>\n",
              "    </tr>\n",
              "    <tr>\n",
              "      <th>902</th>\n",
              "      <td>5</td>\n",
              "      <td>5</td>\n",
              "      <td>5</td>\n",
              "      <td>4</td>\n",
              "      <td>5</td>\n",
              "      <td>3</td>\n",
              "      <td>4</td>\n",
              "      <td>2</td>\n",
              "      <td>1</td>\n",
              "      <td>3</td>\n",
              "      <td>4</td>\n",
              "      <td>4</td>\n",
              "    </tr>\n",
              "    <tr>\n",
              "      <th>744</th>\n",
              "      <td>2</td>\n",
              "      <td>1</td>\n",
              "      <td>1</td>\n",
              "      <td>2</td>\n",
              "      <td>1</td>\n",
              "      <td>2</td>\n",
              "      <td>2</td>\n",
              "      <td>1</td>\n",
              "      <td>1</td>\n",
              "      <td>1</td>\n",
              "      <td>2</td>\n",
              "      <td>2</td>\n",
              "    </tr>\n",
              "    <tr>\n",
              "      <th>768</th>\n",
              "      <td>4</td>\n",
              "      <td>4</td>\n",
              "      <td>4</td>\n",
              "      <td>4</td>\n",
              "      <td>4</td>\n",
              "      <td>4</td>\n",
              "      <td>4</td>\n",
              "      <td>4</td>\n",
              "      <td>4</td>\n",
              "      <td>4</td>\n",
              "      <td>4</td>\n",
              "      <td>4</td>\n",
              "    </tr>\n",
              "  </tbody>\n",
              "</table>\n",
              "<p>240 rows × 12 columns</p>\n",
              "</div>"
            ],
            "text/plain": [
              "      BF-Paratha  BF-Bread  BF-Fry Eggs  ...  BF-Bread_Jelly  BF-Boil_Egg  BF-Fruit\n",
              "158            3         5            4  ...               5            5         5\n",
              "851            4         4            5  ...               5            4         5\n",
              "1084           5         5            4  ...               2            4         4\n",
              "1195           3         4            3  ...               5            4         3\n",
              "974            3         4            3  ...               4            5         4\n",
              "...          ...       ...          ...  ...             ...          ...       ...\n",
              "591            1         5            5  ...               3            3         3\n",
              "551            1         2            2  ...               1            1         3\n",
              "902            5         5            5  ...               3            4         4\n",
              "744            2         1            1  ...               1            2         2\n",
              "768            4         4            4  ...               4            4         4\n",
              "\n",
              "[240 rows x 12 columns]"
            ]
          },
          "metadata": {},
          "execution_count": 104
        }
      ]
    },
    {
      "cell_type": "code",
      "metadata": {
        "colab": {
          "base_uri": "https://localhost:8080/",
          "height": 424
        },
        "id": "WFzdHDyYEX8t",
        "outputId": "d3011654-70bf-4da7-96db-75b273189b65"
      },
      "source": [
        "y_train"
      ],
      "execution_count": 105,
      "outputs": [
        {
          "output_type": "execute_result",
          "data": {
            "text/html": [
              "<div>\n",
              "<style scoped>\n",
              "    .dataframe tbody tr th:only-of-type {\n",
              "        vertical-align: middle;\n",
              "    }\n",
              "\n",
              "    .dataframe tbody tr th {\n",
              "        vertical-align: top;\n",
              "    }\n",
              "\n",
              "    .dataframe thead th {\n",
              "        text-align: right;\n",
              "    }\n",
              "</style>\n",
              "<table border=\"1\" class=\"dataframe\">\n",
              "  <thead>\n",
              "    <tr style=\"text-align: right;\">\n",
              "      <th></th>\n",
              "      <th>Age</th>\n",
              "    </tr>\n",
              "  </thead>\n",
              "  <tbody>\n",
              "    <tr>\n",
              "      <th>634</th>\n",
              "      <td>15--25</td>\n",
              "    </tr>\n",
              "    <tr>\n",
              "      <th>979</th>\n",
              "      <td>40+</td>\n",
              "    </tr>\n",
              "    <tr>\n",
              "      <th>374</th>\n",
              "      <td>25--40</td>\n",
              "    </tr>\n",
              "    <tr>\n",
              "      <th>664</th>\n",
              "      <td>25--40</td>\n",
              "    </tr>\n",
              "    <tr>\n",
              "      <th>235</th>\n",
              "      <td>15--25</td>\n",
              "    </tr>\n",
              "    <tr>\n",
              "      <th>...</th>\n",
              "      <td>...</td>\n",
              "    </tr>\n",
              "    <tr>\n",
              "      <th>767</th>\n",
              "      <td>15--25</td>\n",
              "    </tr>\n",
              "    <tr>\n",
              "      <th>380</th>\n",
              "      <td>15--25</td>\n",
              "    </tr>\n",
              "    <tr>\n",
              "      <th>566</th>\n",
              "      <td>15--25</td>\n",
              "    </tr>\n",
              "    <tr>\n",
              "      <th>1055</th>\n",
              "      <td>15--25</td>\n",
              "    </tr>\n",
              "    <tr>\n",
              "      <th>843</th>\n",
              "      <td>15--25</td>\n",
              "    </tr>\n",
              "  </tbody>\n",
              "</table>\n",
              "<p>960 rows × 1 columns</p>\n",
              "</div>"
            ],
            "text/plain": [
              "         Age\n",
              "634   15--25\n",
              "979      40+\n",
              "374   25--40\n",
              "664   25--40\n",
              "235   15--25\n",
              "...      ...\n",
              "767   15--25\n",
              "380   15--25\n",
              "566   15--25\n",
              "1055  15--25\n",
              "843   15--25\n",
              "\n",
              "[960 rows x 1 columns]"
            ]
          },
          "metadata": {},
          "execution_count": 105
        }
      ]
    },
    {
      "cell_type": "code",
      "metadata": {
        "colab": {
          "base_uri": "https://localhost:8080/",
          "height": 424
        },
        "id": "NzPknqPDEYDi",
        "outputId": "ae3256b6-0b8d-4295-d20c-52cb755d6a7c"
      },
      "source": [
        "y_test"
      ],
      "execution_count": 106,
      "outputs": [
        {
          "output_type": "execute_result",
          "data": {
            "text/html": [
              "<div>\n",
              "<style scoped>\n",
              "    .dataframe tbody tr th:only-of-type {\n",
              "        vertical-align: middle;\n",
              "    }\n",
              "\n",
              "    .dataframe tbody tr th {\n",
              "        vertical-align: top;\n",
              "    }\n",
              "\n",
              "    .dataframe thead th {\n",
              "        text-align: right;\n",
              "    }\n",
              "</style>\n",
              "<table border=\"1\" class=\"dataframe\">\n",
              "  <thead>\n",
              "    <tr style=\"text-align: right;\">\n",
              "      <th></th>\n",
              "      <th>Age</th>\n",
              "    </tr>\n",
              "  </thead>\n",
              "  <tbody>\n",
              "    <tr>\n",
              "      <th>158</th>\n",
              "      <td>15--25</td>\n",
              "    </tr>\n",
              "    <tr>\n",
              "      <th>851</th>\n",
              "      <td>25--40</td>\n",
              "    </tr>\n",
              "    <tr>\n",
              "      <th>1084</th>\n",
              "      <td>15--25</td>\n",
              "    </tr>\n",
              "    <tr>\n",
              "      <th>1195</th>\n",
              "      <td>15--25</td>\n",
              "    </tr>\n",
              "    <tr>\n",
              "      <th>974</th>\n",
              "      <td>25--40</td>\n",
              "    </tr>\n",
              "    <tr>\n",
              "      <th>...</th>\n",
              "      <td>...</td>\n",
              "    </tr>\n",
              "    <tr>\n",
              "      <th>591</th>\n",
              "      <td>40+</td>\n",
              "    </tr>\n",
              "    <tr>\n",
              "      <th>551</th>\n",
              "      <td>15--25</td>\n",
              "    </tr>\n",
              "    <tr>\n",
              "      <th>902</th>\n",
              "      <td>15--25</td>\n",
              "    </tr>\n",
              "    <tr>\n",
              "      <th>744</th>\n",
              "      <td>15--25</td>\n",
              "    </tr>\n",
              "    <tr>\n",
              "      <th>768</th>\n",
              "      <td>15--25</td>\n",
              "    </tr>\n",
              "  </tbody>\n",
              "</table>\n",
              "<p>240 rows × 1 columns</p>\n",
              "</div>"
            ],
            "text/plain": [
              "         Age\n",
              "158   15--25\n",
              "851   25--40\n",
              "1084  15--25\n",
              "1195  15--25\n",
              "974   25--40\n",
              "...      ...\n",
              "591      40+\n",
              "551   15--25\n",
              "902   15--25\n",
              "744   15--25\n",
              "768   15--25\n",
              "\n",
              "[240 rows x 1 columns]"
            ]
          },
          "metadata": {},
          "execution_count": 106
        }
      ]
    },
    {
      "cell_type": "markdown",
      "metadata": {
        "id": "2kXZi7PtJDc7"
      },
      "source": [
        "###Choose the  Model"
      ]
    },
    {
      "cell_type": "markdown",
      "metadata": {
        "id": "UvUbnT2AJ_Qb"
      },
      "source": [
        "####Decision Tree "
      ]
    },
    {
      "cell_type": "code",
      "metadata": {
        "colab": {
          "base_uri": "https://localhost:8080/"
        },
        "id": "4IDARmWpJ_Qg",
        "outputId": "397d91b7-d218-49c0-99eb-0c4e2cacead1"
      },
      "source": [
        "tre=DecisionTreeClassifier()\n",
        "tre.fit(X_train,y_train)\n",
        "pred_tre=tre.predict(X_test)\n",
        "accu_tree=accuracy_score(y_test , pred_tre)*100\n",
        "accu_tree"
      ],
      "execution_count": 107,
      "outputs": [
        {
          "output_type": "execute_result",
          "data": {
            "text/plain": [
              "96.66666666666667"
            ]
          },
          "metadata": {},
          "execution_count": 107
        }
      ]
    },
    {
      "cell_type": "code",
      "metadata": {
        "colab": {
          "base_uri": "https://localhost:8080/"
        },
        "id": "E24kX3q6J_Qh",
        "outputId": "51896c50-75b5-449f-d042-1da401637751"
      },
      "source": [
        "print(classification_report(y_test,pred_tre))"
      ],
      "execution_count": 108,
      "outputs": [
        {
          "output_type": "stream",
          "name": "stdout",
          "text": [
            "              precision    recall  f1-score   support\n",
            "\n",
            "      15--25       0.96      0.99      0.98       166\n",
            "      25--40       1.00      0.92      0.96        53\n",
            "         40+       0.90      0.90      0.90        21\n",
            "\n",
            "    accuracy                           0.97       240\n",
            "   macro avg       0.96      0.94      0.95       240\n",
            "weighted avg       0.97      0.97      0.97       240\n",
            "\n"
          ]
        }
      ]
    },
    {
      "cell_type": "markdown",
      "metadata": {
        "id": "yB_n0mGEKc8r"
      },
      "source": [
        "#### KNN "
      ]
    },
    {
      "cell_type": "code",
      "metadata": {
        "colab": {
          "base_uri": "https://localhost:8080/"
        },
        "id": "JHONV4TVKc8s",
        "outputId": "4ce831a3-09db-442a-c3c2-ce3a94a0dd63"
      },
      "source": [
        "tre=KNeighborsClassifier()\n",
        "tre.fit(X_train,y_train)\n",
        "pred_tre=tre.predict(X_test)\n",
        "accu_KNN=accuracy_score(y_test , pred_tre)*100\n",
        "accu_KNN\n"
      ],
      "execution_count": 109,
      "outputs": [
        {
          "output_type": "stream",
          "name": "stderr",
          "text": [
            "/usr/local/lib/python3.7/dist-packages/ipykernel_launcher.py:2: DataConversionWarning: A column-vector y was passed when a 1d array was expected. Please change the shape of y to (n_samples, ), for example using ravel().\n",
            "  \n"
          ]
        },
        {
          "output_type": "execute_result",
          "data": {
            "text/plain": [
              "92.91666666666667"
            ]
          },
          "metadata": {},
          "execution_count": 109
        }
      ]
    },
    {
      "cell_type": "code",
      "metadata": {
        "colab": {
          "base_uri": "https://localhost:8080/"
        },
        "id": "jkH6goaxKc8t",
        "outputId": "6d3ce07b-f12f-4af9-8fad-ee5489f5716e"
      },
      "source": [
        "print(classification_report(y_test,pred_tre))"
      ],
      "execution_count": 110,
      "outputs": [
        {
          "output_type": "stream",
          "name": "stdout",
          "text": [
            "              precision    recall  f1-score   support\n",
            "\n",
            "      15--25       0.97      0.92      0.95       166\n",
            "      25--40       0.88      0.92      0.90        53\n",
            "         40+       0.78      1.00      0.88        21\n",
            "\n",
            "    accuracy                           0.93       240\n",
            "   macro avg       0.88      0.95      0.91       240\n",
            "weighted avg       0.94      0.93      0.93       240\n",
            "\n"
          ]
        }
      ]
    },
    {
      "cell_type": "markdown",
      "metadata": {
        "id": "VbYc9v-0KufC"
      },
      "source": [
        "####AdaBoostClassifier"
      ]
    },
    {
      "cell_type": "code",
      "metadata": {
        "colab": {
          "base_uri": "https://localhost:8080/"
        },
        "id": "Tn4igM2yKufD",
        "outputId": "ad0c42be-8ea6-48e7-99c8-a08b955fbc7d"
      },
      "source": [
        "tre=AdaBoostClassifier()\n",
        "tre.fit(X_train,y_train)\n",
        "pred_tre=tre.predict(X_test)\n",
        "accu_Adaboost=accuracy_score(y_test , pred_tre)*100\n",
        "accu_Adaboost"
      ],
      "execution_count": 111,
      "outputs": [
        {
          "output_type": "stream",
          "name": "stderr",
          "text": [
            "/usr/local/lib/python3.7/dist-packages/sklearn/utils/validation.py:760: DataConversionWarning: A column-vector y was passed when a 1d array was expected. Please change the shape of y to (n_samples, ), for example using ravel().\n",
            "  y = column_or_1d(y, warn=True)\n"
          ]
        },
        {
          "output_type": "execute_result",
          "data": {
            "text/plain": [
              "71.66666666666667"
            ]
          },
          "metadata": {},
          "execution_count": 111
        }
      ]
    },
    {
      "cell_type": "code",
      "metadata": {
        "colab": {
          "base_uri": "https://localhost:8080/"
        },
        "id": "5uV_81VUKufF",
        "outputId": "d88a2ebc-c270-4957-d82c-eac13efa22c4"
      },
      "source": [
        "print(classification_report(y_test,pred_tre))"
      ],
      "execution_count": 112,
      "outputs": [
        {
          "output_type": "stream",
          "name": "stdout",
          "text": [
            "              precision    recall  f1-score   support\n",
            "\n",
            "      15--25       0.77      0.87      0.82       166\n",
            "      25--40       0.47      0.36      0.41        53\n",
            "         40+       0.73      0.38      0.50        21\n",
            "\n",
            "    accuracy                           0.72       240\n",
            "   macro avg       0.66      0.54      0.58       240\n",
            "weighted avg       0.70      0.72      0.70       240\n",
            "\n"
          ]
        }
      ]
    },
    {
      "cell_type": "markdown",
      "metadata": {
        "id": "XKHX8nypK0Vz"
      },
      "source": [
        "####BaggingClassifier"
      ]
    },
    {
      "cell_type": "code",
      "metadata": {
        "colab": {
          "base_uri": "https://localhost:8080/"
        },
        "id": "MFn01DX-K0V0",
        "outputId": "24c0b205-8117-400c-9466-8b1e403172ec"
      },
      "source": [
        "tre=BaggingClassifier()\n",
        "tre.fit(X_train,y_train)\n",
        "pred_tre=tre.predict(X_test)\n",
        "accu_Bagging=accuracy_score(y_test , pred_tre)*100\n",
        "accu_Bagging"
      ],
      "execution_count": 113,
      "outputs": [
        {
          "output_type": "stream",
          "name": "stderr",
          "text": [
            "/usr/local/lib/python3.7/dist-packages/sklearn/ensemble/_bagging.py:645: DataConversionWarning: A column-vector y was passed when a 1d array was expected. Please change the shape of y to (n_samples, ), for example using ravel().\n",
            "  y = column_or_1d(y, warn=True)\n"
          ]
        },
        {
          "output_type": "execute_result",
          "data": {
            "text/plain": [
              "96.66666666666667"
            ]
          },
          "metadata": {},
          "execution_count": 113
        }
      ]
    },
    {
      "cell_type": "code",
      "metadata": {
        "colab": {
          "base_uri": "https://localhost:8080/"
        },
        "id": "ncd-pAycK0V2",
        "outputId": "f8980b50-aeb4-41f6-df56-9be73c08a836"
      },
      "source": [
        "print(classification_report(y_test,pred_tre))"
      ],
      "execution_count": 114,
      "outputs": [
        {
          "output_type": "stream",
          "name": "stdout",
          "text": [
            "              precision    recall  f1-score   support\n",
            "\n",
            "      15--25       0.96      0.99      0.98       166\n",
            "      25--40       1.00      0.92      0.96        53\n",
            "         40+       0.90      0.90      0.90        21\n",
            "\n",
            "    accuracy                           0.97       240\n",
            "   macro avg       0.96      0.94      0.95       240\n",
            "weighted avg       0.97      0.97      0.97       240\n",
            "\n"
          ]
        }
      ]
    },
    {
      "cell_type": "markdown",
      "metadata": {
        "id": "HhHzAmwoK5n7"
      },
      "source": [
        "####GaussianNB"
      ]
    },
    {
      "cell_type": "code",
      "metadata": {
        "colab": {
          "base_uri": "https://localhost:8080/"
        },
        "id": "KwdVT74GK5n8",
        "outputId": "108593f4-c660-4730-9739-670722743557"
      },
      "source": [
        "\n",
        "tre=GaussianNB()\n",
        "tre.fit(X_train,y_train)\n",
        "pred_tre=tre.predict(X_test)\n",
        "accu_Gaussian=accuracy_score(y_test , pred_tre)*100\n",
        "accu_Gaussian"
      ],
      "execution_count": 115,
      "outputs": [
        {
          "output_type": "stream",
          "name": "stderr",
          "text": [
            "/usr/local/lib/python3.7/dist-packages/sklearn/naive_bayes.py:206: DataConversionWarning: A column-vector y was passed when a 1d array was expected. Please change the shape of y to (n_samples, ), for example using ravel().\n",
            "  y = column_or_1d(y, warn=True)\n"
          ]
        },
        {
          "output_type": "execute_result",
          "data": {
            "text/plain": [
              "55.41666666666667"
            ]
          },
          "metadata": {},
          "execution_count": 115
        }
      ]
    },
    {
      "cell_type": "code",
      "metadata": {
        "colab": {
          "base_uri": "https://localhost:8080/"
        },
        "id": "hLuLxDHPK5n9",
        "outputId": "fe0a7f0d-2411-40f5-e3e9-73680e92d3a5"
      },
      "source": [
        "print(classification_report(y_test,pred_tre))"
      ],
      "execution_count": 116,
      "outputs": [
        {
          "output_type": "stream",
          "name": "stdout",
          "text": [
            "              precision    recall  f1-score   support\n",
            "\n",
            "      15--25       0.79      0.57      0.66       166\n",
            "      25--40       0.34      0.62      0.44        53\n",
            "         40+       0.22      0.24      0.23        21\n",
            "\n",
            "    accuracy                           0.55       240\n",
            "   macro avg       0.45      0.48      0.44       240\n",
            "weighted avg       0.64      0.55      0.58       240\n",
            "\n"
          ]
        }
      ]
    },
    {
      "cell_type": "markdown",
      "metadata": {
        "id": "W5hbKKDBK-Uz"
      },
      "source": [
        "####ExtraTreesClassifier"
      ]
    },
    {
      "cell_type": "code",
      "metadata": {
        "colab": {
          "base_uri": "https://localhost:8080/"
        },
        "id": "hhCaYjEJK-Uz",
        "outputId": "9bad4804-bee3-4abf-d2ef-b72d3c39f153"
      },
      "source": [
        "\n",
        "tre=ExtraTreesClassifier()\n",
        "tre.fit(X_train,y_train)\n",
        "pred_tre=tre.predict(X_test)\n",
        "accu_Extratree=accuracy_score(y_test , pred_tre)*100\n",
        "accu_Extratree"
      ],
      "execution_count": 117,
      "outputs": [
        {
          "output_type": "stream",
          "name": "stderr",
          "text": [
            "/usr/local/lib/python3.7/dist-packages/ipykernel_launcher.py:3: DataConversionWarning: A column-vector y was passed when a 1d array was expected. Please change the shape of y to (n_samples,), for example using ravel().\n",
            "  This is separate from the ipykernel package so we can avoid doing imports until\n"
          ]
        },
        {
          "output_type": "execute_result",
          "data": {
            "text/plain": [
              "96.66666666666667"
            ]
          },
          "metadata": {},
          "execution_count": 117
        }
      ]
    },
    {
      "cell_type": "code",
      "metadata": {
        "colab": {
          "base_uri": "https://localhost:8080/"
        },
        "id": "D1UnL54DK-U0",
        "outputId": "8710c1e2-42d7-4272-8547-22070edb497c"
      },
      "source": [
        "print(classification_report(y_test,pred_tre))"
      ],
      "execution_count": 118,
      "outputs": [
        {
          "output_type": "stream",
          "name": "stdout",
          "text": [
            "              precision    recall  f1-score   support\n",
            "\n",
            "      15--25       0.96      0.99      0.98       166\n",
            "      25--40       1.00      0.92      0.96        53\n",
            "         40+       0.90      0.90      0.90        21\n",
            "\n",
            "    accuracy                           0.97       240\n",
            "   macro avg       0.96      0.94      0.95       240\n",
            "weighted avg       0.97      0.97      0.97       240\n",
            "\n"
          ]
        }
      ]
    },
    {
      "cell_type": "markdown",
      "metadata": {
        "id": "qiAhtbOk6f3V"
      },
      "source": [
        "### Breakfast Model Score"
      ]
    },
    {
      "cell_type": "code",
      "metadata": {
        "id": "XXg5t8gUFrW_",
        "colab": {
          "base_uri": "https://localhost:8080/",
          "height": 237
        },
        "outputId": "47118238-69e4-4f33-cfa6-e10cd730ba19"
      },
      "source": [
        "models = pd.DataFrame({\n",
        "    'BreakFast Model': ['DecisionTreeClassifier','KNeighborsClassifier',\n",
        "             'AdaBoostClassifier','BaggingClassifier','GaussianNB','ExtraTreesClassifier'],\n",
        "    'Score': [ accu_tree,accu_KNN,accu_Adaboost,accu_Bagging,accu_Gaussian,accu_Extratree]\n",
        "}) \n",
        "\n",
        "models.sort_values(by = 'Score', ascending = False)"
      ],
      "execution_count": 125,
      "outputs": [
        {
          "output_type": "execute_result",
          "data": {
            "text/html": [
              "<div>\n",
              "<style scoped>\n",
              "    .dataframe tbody tr th:only-of-type {\n",
              "        vertical-align: middle;\n",
              "    }\n",
              "\n",
              "    .dataframe tbody tr th {\n",
              "        vertical-align: top;\n",
              "    }\n",
              "\n",
              "    .dataframe thead th {\n",
              "        text-align: right;\n",
              "    }\n",
              "</style>\n",
              "<table border=\"1\" class=\"dataframe\">\n",
              "  <thead>\n",
              "    <tr style=\"text-align: right;\">\n",
              "      <th></th>\n",
              "      <th>BreakFast Model</th>\n",
              "      <th>Score</th>\n",
              "    </tr>\n",
              "  </thead>\n",
              "  <tbody>\n",
              "    <tr>\n",
              "      <th>0</th>\n",
              "      <td>DecisionTreeClassifier</td>\n",
              "      <td>96.666667</td>\n",
              "    </tr>\n",
              "    <tr>\n",
              "      <th>3</th>\n",
              "      <td>BaggingClassifier</td>\n",
              "      <td>96.666667</td>\n",
              "    </tr>\n",
              "    <tr>\n",
              "      <th>5</th>\n",
              "      <td>ExtraTreesClassifier</td>\n",
              "      <td>96.666667</td>\n",
              "    </tr>\n",
              "    <tr>\n",
              "      <th>1</th>\n",
              "      <td>KNeighborsClassifier</td>\n",
              "      <td>92.916667</td>\n",
              "    </tr>\n",
              "    <tr>\n",
              "      <th>2</th>\n",
              "      <td>AdaBoostClassifier</td>\n",
              "      <td>71.666667</td>\n",
              "    </tr>\n",
              "    <tr>\n",
              "      <th>4</th>\n",
              "      <td>GaussianNB</td>\n",
              "      <td>55.416667</td>\n",
              "    </tr>\n",
              "  </tbody>\n",
              "</table>\n",
              "</div>"
            ],
            "text/plain": [
              "          BreakFast Model      Score\n",
              "0  DecisionTreeClassifier  96.666667\n",
              "3       BaggingClassifier  96.666667\n",
              "5    ExtraTreesClassifier  96.666667\n",
              "1    KNeighborsClassifier  92.916667\n",
              "2      AdaBoostClassifier  71.666667\n",
              "4              GaussianNB  55.416667"
            ]
          },
          "metadata": {},
          "execution_count": 125
        }
      ]
    },
    {
      "cell_type": "code",
      "metadata": {
        "id": "0gCeLHq0Frbt",
        "colab": {
          "base_uri": "https://localhost:8080/",
          "height": 334
        },
        "outputId": "a3a34f10-e99e-4d05-8be3-c44caf8aa934"
      },
      "source": [
        "#Breakfast Model Score\n",
        "colors = [\"purple\", \"green\", \"orange\", \"magenta\",\"blue\",\"black\"]\n",
        "\n",
        "sns.set_style(\"whitegrid\")\n",
        "plt.figure(figsize=(15,5))\n",
        "plt.ylabel(\"Accuracy %\")\n",
        "plt.xlabel(\"Algorithms\")\n",
        "sns.barplot(x=models['BreakFast Model'],y=models['Score'], palette=colors )\n",
        "plt.show()\n"
      ],
      "execution_count": 126,
      "outputs": [
        {
          "output_type": "display_data",
          "data": {
            "image/png": "[encoded data removed]",
            "text/plain": [
              "<Figure size 1080x360 with 1 Axes>"
            ]
          },
          "metadata": {}
        }
      ]
    },
    {
      "cell_type": "code",
      "metadata": {
        "id": "A4LD5OIuFrwF"
      },
      "source": [
        ""
      ],
      "execution_count": 119,
      "outputs": []
    },
    {
      "cell_type": "code",
      "metadata": {
        "id": "BTY_8ZwCFrzs"
      },
      "source": [
        ""
      ],
      "execution_count": 119,
      "outputs": []
    },
    {
      "cell_type": "markdown",
      "metadata": {
        "id": "vh8s1neXCplW"
      },
      "source": [
        "# Lunce"
      ]
    },
    {
      "cell_type": "markdown",
      "metadata": {
        "id": "IvQw1v3BNFwZ"
      },
      "source": [
        "##Lunch Split Dataset for Train and Test"
      ]
    },
    {
      "cell_type": "code",
      "metadata": {
        "id": "QUPruw7bCum8"
      },
      "source": [
        ""
      ],
      "execution_count": null,
      "outputs": []
    },
    {
      "cell_type": "code",
      "metadata": {
        "id": "nOOgScpqCuz6"
      },
      "source": [
        ""
      ],
      "execution_count": null,
      "outputs": []
    },
    {
      "cell_type": "code",
      "metadata": {
        "id": "fnIY70FfCu58"
      },
      "source": [
        ""
      ],
      "execution_count": null,
      "outputs": []
    },
    {
      "cell_type": "code",
      "metadata": {
        "id": "Bq26CC8FCu_X"
      },
      "source": [
        ""
      ],
      "execution_count": null,
      "outputs": []
    }
  ]
}